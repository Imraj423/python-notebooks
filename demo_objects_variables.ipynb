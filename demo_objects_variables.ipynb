{
  "nbformat": 4,
  "nbformat_minor": 0,
  "metadata": {
    "colab": {
      "name": "Objects and Variables in Python",
      "provenance": [],
      "collapsed_sections": []
    },
    "kernelspec": {
      "name": "python3",
      "display_name": "Python 3"
    }
  },
  "cells": [
    {
      "cell_type": "markdown",
      "metadata": {
        "id": "usgEVC5BzMoX",
        "colab_type": "text"
      },
      "source": [
        "# Objects and Variables in Python\n",
        "Everything in Python is an object. An object is a representation of data as being of a certain ***type***. Objects have ***properties*** and ***methods***. A property is a variable that belongs to an object, and a method is a function that belongs to an object. Properties contain information about the object to which they belong, and methods perform operations on the object to which they belong.\n",
        "\n",
        "## How are objects made?\n",
        "Objects are built from ***classes***, which act as a blueprint describing the properties and methods that will belong to an object once it is ***instantiated*** (i.e., an ***instance*** of a class is created, a.k.a an ***object***). We won't dive into classes right now, but it is helpful to touch on them when discussing objects, since classes define objects.\n",
        "\n",
        "## A Look Inside\n",
        "Let's look at how to identify the class from which an object was built, along with which properties and methods it contains.\n",
        "\n",
        "Using the built-in `type()` function, you can see what \"type\" an object is, or from which class an object was derived."
      ]
    },
    {
      "cell_type": "code",
      "metadata": {
        "id": "PSVz5D-R7sF0",
        "colab_type": "code",
        "colab": {}
      },
      "source": [
        "print('True\\t\\t', type(True))  # a boolean value\n",
        "print('1\\t\\t', type(1))  # an integer value\n",
        "print('1.1\\t\\t', type(1.1))  # a floating-point value\n",
        "print('\"hello\"\\t\\t', type('hello'))  # a string value\n",
        "print('[]\\t\\t', type([]))  # a list value\n",
        "print('()\\t\\t', type(()))  # a tuple value\n",
        "print('set()\\t\\t', type(set()))  # a set value\n",
        "print('dict()\\t\\t', type(dict()))  # a dictionary value"
      ],
      "execution_count": null,
      "outputs": []
    },
    {
      "cell_type": "code",
      "metadata": {
        "id": "XI7T8OFGC7vM",
        "colab_type": "code",
        "colab": {}
      },
      "source": [
        "# Now, let's get a little more obscure...\n",
        "print('None\\t\\t', type(None))  # the None value\n",
        "\n",
        "def say_hello():\n",
        "  print('hello')\n",
        "print('def say_hello()\\t', type(say_hello))  # a function\n",
        "\n",
        "print('type(int)\\t', type(type(int)))  # a...what?! That's right. A 'type' type!\n",
        "\n",
        "import math\n",
        "print('import math\\t', type(math))  # an imported module"
      ],
      "execution_count": null,
      "outputs": []
    },
    {
      "cell_type": "markdown",
      "metadata": {
        "id": "FotdOMhAD3Ep",
        "colab_type": "text"
      },
      "source": [
        "Ok, ok...so **everything** truly is an object in Python &mdash; and the example above only demonstrates some of the more fundamental types in Python.\n",
        "\n",
        "To find out if an object is of a certain type, use the built-in `isinstance()` function. This will tell you whether a given object is an instance of a given class."
      ]
    },
    {
      "cell_type": "code",
      "metadata": {
        "id": "7prLPDxbE0pd",
        "colab_type": "code",
        "colab": {}
      },
      "source": [
        "print('5 is an integer:\\t', isinstance(5, int))  # 5 is, in fact, an integer\n",
        "print('5 is a float:\\t\\t', isinstance(5, float))  # 5 is not a float\n",
        "print('True is a boolean:\\t', isinstance(True, bool))  # is True an instance of the 'bool' class?\n",
        "print('True is an integer:\\t', isinstance(True, int))  # certainly True is not an instance of the 'int' class..."
      ],
      "execution_count": null,
      "outputs": []
    },
    {
      "cell_type": "markdown",
      "metadata": {
        "id": "3356diSILLn6",
        "colab_type": "text"
      },
      "source": [
        "Well, that got awkward...the value `True` is an instance of both the `bool` and `int` classes. That's right! The boolean values True and False are essentially just integers masquerading as their own type through ***subclassing***. Subclassing allows an object to inherit and extend the properties and methods of another object. Let's use the built-in `issubclass()` function to investigate."
      ]
    },
    {
      "cell_type": "code",
      "metadata": {
        "id": "NLeWJW_SLjxX",
        "colab_type": "code",
        "colab": {}
      },
      "source": [
        "print('bool is a subclass of bool:\\t', issubclass(bool, bool))  # a class is always considered a subclass of itself\n",
        "print('int is a subclass of int:\\t', issubclass(int, int))\n",
        "print('bool is a subclass of int:\\t', issubclass(bool, int))  # is the bool class derived from the int class?\n",
        "print('int is a subclass of bool:\\t', issubclass(int, bool))  # is the int class derived from the bool class?"
      ],
      "execution_count": null,
      "outputs": []
    },
    {
      "cell_type": "markdown",
      "metadata": {
        "id": "Ddr3Zo3cEefW",
        "colab_type": "text"
      },
      "source": [
        "## The stuff dreams are made of (if dreams were objects)!\n",
        "Let's examine a few objects and see what they are made of! The built-in `dir()` function allows you to view the properties and methods of an object."
      ]
    },
    {
      "cell_type": "code",
      "metadata": {
        "id": "5qbRM2qW82eo",
        "colab_type": "code",
        "colab": {}
      },
      "source": [
        "dir(bool)"
      ],
      "execution_count": null,
      "outputs": []
    },
    {
      "cell_type": "code",
      "metadata": {
        "id": "Z-1KijeF8aJ7",
        "colab_type": "code",
        "colab": {}
      },
      "source": [
        "dir(int)"
      ],
      "execution_count": null,
      "outputs": []
    },
    {
      "cell_type": "code",
      "metadata": {
        "id": "uRrQmui38ueQ",
        "colab_type": "code",
        "colab": {}
      },
      "source": [
        "message = 'hello'\n",
        "dir(message)"
      ],
      "execution_count": null,
      "outputs": []
    },
    {
      "cell_type": "code",
      "metadata": {
        "id": "GC8NP18rh2K7",
        "colab_type": "code",
        "colab": {}
      },
      "source": [
        "'hello'.startswith('z')"
      ],
      "execution_count": null,
      "outputs": []
    },
    {
      "cell_type": "code",
      "metadata": {
        "id": "WHVWi2Q38zhu",
        "colab_type": "code",
        "colab": {}
      },
      "source": [
        "dir(list)"
      ],
      "execution_count": null,
      "outputs": []
    },
    {
      "cell_type": "code",
      "metadata": {
        "id": "v1QM31rZj2u-",
        "colab_type": "code",
        "colab": {}
      },
      "source": [
        "my_list = [5, 2, 1, 9, 3]\n",
        "my_list = sorted(my_list)\n",
        "print(my_list)"
      ],
      "execution_count": null,
      "outputs": []
    },
    {
      "cell_type": "markdown",
      "metadata": {
        "id": "F92iBRrqcFUw",
        "colab_type": "text"
      },
      "source": [
        "## Naming objects\n",
        "In Python, objects are created and stored in memory, and names are given to them as *object references* that point to the object's location in memory. These names are *variables*. The idea to emphasize here is that variables are names that point to objects &mdash; they do not contain objects themselves. It may seem like a pointless distinction, but it is critical to the way Python works."
      ]
    },
    {
      "cell_type": "code",
      "metadata": {
        "id": "rDvmEiMbdaxD",
        "colab_type": "code",
        "colab": {}
      },
      "source": [
        "x = 5  # create an integer object, 5, and assign a reference to it, called x\n",
        "s = 'test string'  # create a string object, 'test string', and assign a reference to it, called s\n",
        "\n",
        "import sys\n",
        "sys.getsizeof(x)"
      ],
      "execution_count": null,
      "outputs": []
    },
    {
      "cell_type": "markdown",
      "metadata": {
        "id": "ZjyxjghHaRgF",
        "colab_type": "text"
      },
      "source": [
        "## Let's see some id...\n",
        "The built-in `id()` function gives you the memory location where a given object is stored."
      ]
    },
    {
      "cell_type": "code",
      "metadata": {
        "id": "_BC9oqmjzKUM",
        "colab_type": "code",
        "colab": {}
      },
      "source": [
        "my_int = 33\n",
        "my_string = \"hello\"\n",
        "my_list = ['h', 'e', 'l', 'l', 'o']\n",
        "\n",
        "print('id of my_int:\\t', id(my_int))\n",
        "print('id of my_string:', id(my_string))\n",
        "print('id of my_list:\\t', id(my_list))"
      ],
      "execution_count": null,
      "outputs": []
    },
    {
      "cell_type": "markdown",
      "metadata": {
        "id": "4jDXsMY9erDm",
        "colab_type": "text"
      },
      "source": [
        "## Shared references"
      ]
    },
    {
      "cell_type": "code",
      "metadata": {
        "id": "VtoifZZZa9PU",
        "colab_type": "code",
        "colab": {}
      },
      "source": [
        "my_list1 = ['h', 'e', 'l', 'l', 'o']\n",
        "my_list2 = my_list1\n",
        "\n",
        "print(id(my_list1))\n",
        "print(id(my_list2))  # the same id as my_list1 -- they both point to the same object in memory"
      ],
      "execution_count": null,
      "outputs": []
    },
    {
      "cell_type": "code",
      "metadata": {
        "id": "v3ip5iLVe6Yf",
        "colab_type": "code",
        "colab": {}
      },
      "source": [
        "# changes to one will affect the other\n",
        "print(''.join(my_list1))\n",
        "print(''.join(my_list2))\n",
        "\n",
        "my_list1[0] = 'j'\n",
        "\n",
        "print(''.join(my_list1))\n",
        "print(''.join(my_list2))"
      ],
      "execution_count": null,
      "outputs": []
    },
    {
      "cell_type": "markdown",
      "metadata": {
        "id": "9CunzSCvqPSM",
        "colab_type": "text"
      },
      "source": [
        ""
      ]
    },
    {
      "cell_type": "markdown",
      "metadata": {
        "id": "4siULELqfrF5",
        "colab_type": "text"
      },
      "source": [
        "## Avoiding shared references &mdash; copy that!\n",
        "To avoid copying a reference to a list, you can create a copy of it. There are two types of copies you can make &mdash; a shallow copy, or a deep copy.\n",
        "\n",
        "A ***shallow copy*** only creates copies of top-level values. It will not traverse nested structures to make copies of their values.\n",
        "\n",
        "A ***deep copy*** *will* recursively copy values within nested structures.\n",
        "\n",
        "An example might help to understand these concepts."
      ]
    },
    {
      "cell_type": "code",
      "metadata": {
        "id": "bQbUz65BfX2z",
        "colab_type": "code",
        "colab": {}
      },
      "source": [
        "my_list1 = [1, 2, 3, ['a', 'b', 'c']]  # a list with a nested data structure\n",
        "my_list2 = my_list1.copy()  # make a shallow copy of my_list1\n",
        "# my_list2 = my_list1[:]  # another way to make a copy of a list by slicing its entire contents\n",
        "\n",
        "print('original values')\n",
        "print('my_list1:\\t', my_list1)\n",
        "print('my_list2:\\t', my_list2)"
      ],
      "execution_count": null,
      "outputs": []
    },
    {
      "cell_type": "code",
      "metadata": {
        "id": "L4cPOLxbUYXz",
        "colab_type": "code",
        "colab": {}
      },
      "source": [
        "# now, changes to my_list1 should not affect my_list2...\n",
        "my_list1[0] = 'x'\n",
        "\n",
        "print(\"\\nafter my_list1[0] = 'x'\")\n",
        "print('my_list1:\\t', my_list1)\n",
        "print('my_list2:\\t', my_list2)"
      ],
      "execution_count": null,
      "outputs": []
    },
    {
      "cell_type": "code",
      "metadata": {
        "id": "oTMlxRppUaWP",
        "colab_type": "code",
        "colab": {}
      },
      "source": [
        "# ...except changes made to nested structures\n",
        "my_list1[3][0] = 'x'\n",
        "\n",
        "print(\"\\nafter my_list1[3][0] = 'x'\")\n",
        "print('my_list1:\\t', my_list1)\n",
        "print('my_list2:\\t', my_list2)"
      ],
      "execution_count": null,
      "outputs": []
    },
    {
      "cell_type": "markdown",
      "metadata": {
        "id": "YtdH5ucWiS-q",
        "colab_type": "text"
      },
      "source": [
        "The way to avoid the above pitfall is to perform a deep copy of the list. To do this, import Python's built-in `copy` module and use its `deepcopy()` method."
      ]
    },
    {
      "cell_type": "code",
      "metadata": {
        "id": "Ckeryyx0htBJ",
        "colab_type": "code",
        "colab": {}
      },
      "source": [
        "import copy\n",
        "\n",
        "my_list1 = [1, 2, 3, ['a', 'b', 'c']]  # a list with a nested data structure\n",
        "my_list2 = copy.deepcopy(my_list1)  # make a deep copy of my_list1\n",
        "\n",
        "# now, changes to even nested data structures within my_list1 should not affect my_list2\n",
        "\n",
        "my_list1[3][0] = 'x'\n",
        "\n",
        "print(\"\\nafter my_list1[3][0] = 'x'\")\n",
        "print('my_list1:\\t', my_list1)\n",
        "print('my_list2:\\t', my_list2)"
      ],
      "execution_count": null,
      "outputs": []
    },
    {
      "cell_type": "markdown",
      "metadata": {
        "id": "xZrnqOGCiwYX",
        "colab_type": "text"
      },
      "source": [
        "## Reference Counting\n",
        "When an object is no longer needed in Python, the memory that it was taking up is reclaimed. Python determines when to release an object from memory by counting references to the object. When there are no more references to an object, the memory it used is freed up to be used by other objects."
      ]
    }
  ]
}