{
  "nbformat": 4,
  "nbformat_minor": 0,
  "metadata": {
    "kernelspec": {
      "name": "python3",
      "display_name": "Python 3"
    },
    "colab": {
      "name": "Katas_Basic_Looping.ipynb",
      "provenance": []
    }
  },
  "cells": [
    {
      "cell_type": "markdown",
      "metadata": {
        "id": "swyTSVhy5Z2T",
        "colab_type": "text"
      },
      "source": [
        "<table border=\"0\" align=\"left\" width=\"700\" height=\"144\">\n",
        "<tbody>\n",
        "<tr>\n",
        "<td width=\"120\"><img width=\"100\" src=\"https://static1.squarespace.com/static/5992c2c7a803bb8283297efe/t/59c803110abd04d34ca9a1f0/1530629279239/\" /></td>\n",
        "<td style=\"width: 600px; height: 67px;\">\n",
        "<h1 style=\"text-align: left;\">Katas: Basic Looping</h1>\n",
        "<p><a href=\"https://colab.research.google.com/github/KenzieAcademy/python-notebooks/blob/master/Katas_Basic_Looping.ipynb\"> <img src=\"https://colab.research.google.com/assets/colab-badge.svg\" alt=\"Open In Colab\" align=\"left\" width=\"188\" height=\"32\" /> </a></p>\n",
        "</td>\n",
        "</tr>\n",
        "</tbody>\n",
        "</table>"
      ]
    },
    {
      "cell_type": "markdown",
      "metadata": {
        "id": "bzZ2fDYN5Z2U",
        "colab_type": "text"
      },
      "source": [
        "## Instructions\n",
        "\n",
        "**Use SHIFT+ENTER to run each cell.**\n",
        "These exercises use a tool called Juptyer Notebook. Here are some quick guidelines:\n",
        "\n",
        "- Each block of python code is called a cell.\n",
        "- You are running an actual python program, cell-by-cell.\n",
        "- You can edit and re-run the code cells in place without overwriting the original notebook.\n",
        "- Don't worry about the In [x]: or Out [y]: notations on the left margin.\n",
        "- Variables are remembered between cells.\n",
        "- Please use the `print()` function when displaying your answers.\n",
        "- Don't worry about formatting your output to print everything on a single line.\n",
        "\n",
        "\n",
        "## Submitting your work\n",
        "- Add your python code into each cell to complete the kata.\n",
        "- Select **File -> Download as -> Python (.py)** and save to your local machine.\n",
        "- Submit your .py file into the assignment upload window.\n",
        "- Bonus Points: Try the same exercises using list comprehensions. Submit a second .py file.\n"
      ]
    },
    {
      "cell_type": "markdown",
      "metadata": {
        "id": "RJVV-wfY5Z2U",
        "colab_type": "text"
      },
      "source": [
        "### Let us begin.."
      ]
    },
    {
      "cell_type": "markdown",
      "metadata": {
        "id": "ygDksKpP5Z2V",
        "colab_type": "text"
      },
      "source": [
        "1. Print a list of integers from 1 to 20. *e.g.,* [1, 2, 3, ...,19, 20]"
      ]
    },
    {
      "cell_type": "code",
      "metadata": {
        "id": "r4qdL8Sd5Z2W",
        "colab_type": "code",
        "colab": {}
      },
      "source": [
        "print('Integers from 1 to 20:')\n",
        "# Your code goes here"
      ],
      "execution_count": 0,
      "outputs": []
    },
    {
      "cell_type": "markdown",
      "metadata": {
        "id": "vSpiTNcT5Z2Z",
        "colab_type": "text"
      },
      "source": [
        "2. Print only the even numbers from 1 to 20. *e.g.,* [2, 4, 6, ..., 18, 20].  Remember that range() accepts 3 arguments..."
      ]
    },
    {
      "cell_type": "code",
      "metadata": {
        "id": "n8CgljUa5Z2a",
        "colab_type": "code",
        "colab": {}
      },
      "source": [
        "print('Evens from 1 to 20:')\n",
        "# Your code goes here"
      ],
      "execution_count": 0,
      "outputs": []
    },
    {
      "cell_type": "markdown",
      "metadata": {
        "id": "o39ynB6D5Z2c",
        "colab_type": "text"
      },
      "source": [
        "3. Print only the odd numbers from 1 to 20. *e.g.,* [1, 3, 5, ..., 17, 19]"
      ]
    },
    {
      "cell_type": "code",
      "metadata": {
        "id": "m63pBrvp5Z2d",
        "colab_type": "code",
        "colab": {}
      },
      "source": [
        "print('Odds from 1 to 20:')\n",
        "# Your code goes here"
      ],
      "execution_count": 0,
      "outputs": []
    },
    {
      "cell_type": "markdown",
      "metadata": {
        "id": "tV0ustjT5Z2g",
        "colab_type": "text"
      },
      "source": [
        "4. Print the multiples of 5, from 5 to 100. *e.g.,* [5, 10, 15, ..., 95, 100]"
      ]
    },
    {
      "cell_type": "code",
      "metadata": {
        "id": "E_B_h7wk5Z2g",
        "colab_type": "code",
        "colab": {}
      },
      "source": [
        "print('Multiples of 5, from 5 to 100:')\n",
        "# Your code goes here"
      ],
      "execution_count": 0,
      "outputs": []
    },
    {
      "cell_type": "markdown",
      "metadata": {
        "id": "FlLx_zJ_5Z2j",
        "colab_type": "text"
      },
      "source": [
        "5. Print the squares of integers from 1 to 10. *e.g.,* [1, 4, 9, ..., 81, 100]"
      ]
    },
    {
      "cell_type": "code",
      "metadata": {
        "id": "K55Fmz7n5Z2j",
        "colab_type": "code",
        "colab": {}
      },
      "source": [
        "print('Squares of integers from 1 to 10:')\n",
        "# Your code goes here"
      ],
      "execution_count": 0,
      "outputs": []
    },
    {
      "cell_type": "markdown",
      "metadata": {
        "id": "1C5oIyu65Z2n",
        "colab_type": "text"
      },
      "source": [
        "6. Print a list of integers, counting backwards from 20 to 1. *e.g.,* [20, 19, 18, ..., 2, 1]"
      ]
    },
    {
      "cell_type": "code",
      "metadata": {
        "id": "r21vTSF55Z2n",
        "colab_type": "code",
        "colab": {}
      },
      "source": [
        "print('Integers from 20 to 1:')\n",
        "# Your code goes here"
      ],
      "execution_count": 0,
      "outputs": []
    },
    {
      "cell_type": "markdown",
      "metadata": {
        "id": "zZUOiNNr5Z2r",
        "colab_type": "text"
      },
      "source": [
        "7. Print only the even numbers, counting backwards from 20 to 2. *e.g.,* [20, 18, 16, ..., 4, 2]"
      ]
    },
    {
      "cell_type": "code",
      "metadata": {
        "id": "ykBB_bUO5Z2s",
        "colab_type": "code",
        "colab": {}
      },
      "source": [
        "print('Evens from 20 to 2:')\n",
        "# Your code goes here"
      ],
      "execution_count": 0,
      "outputs": []
    },
    {
      "cell_type": "markdown",
      "metadata": {
        "id": "RAXE1DWj5Z2u",
        "colab_type": "text"
      },
      "source": [
        "8. Print only the odd numbers from 20 to 1, counting backwards. *e.g.,* [19, 17, 15, ..., 3, 1]"
      ]
    },
    {
      "cell_type": "code",
      "metadata": {
        "id": "lpx_-7rZ5Z2v",
        "colab_type": "code",
        "colab": {}
      },
      "source": [
        "print('Odds from 20 to 1:')\n",
        "# Your code goes here"
      ],
      "execution_count": 0,
      "outputs": []
    },
    {
      "cell_type": "markdown",
      "metadata": {
        "id": "3xGmBW2i5Z2x",
        "colab_type": "text"
      },
      "source": [
        "9. Print the multiples of 5, counting down from 100. *e.g.,* [100, 95, 90, ..., 10, 5]"
      ]
    },
    {
      "cell_type": "code",
      "metadata": {
        "id": "-kP5OhH35Z2x",
        "colab_type": "code",
        "colab": {}
      },
      "source": [
        "print('Multiples of 5 descending from 100 to 5:')\n",
        "# Your code goes here"
      ],
      "execution_count": 0,
      "outputs": []
    },
    {
      "cell_type": "markdown",
      "metadata": {
        "id": "PgjV5d5C5Z20",
        "colab_type": "text"
      },
      "source": [
        "10. Print the square of integers, descending from 10 to 1. *e.g.,* [100, 81, 64, ..., 4, 1]"
      ]
    },
    {
      "cell_type": "code",
      "metadata": {
        "id": "o-9Ar6M05Z20",
        "colab_type": "code",
        "colab": {}
      },
      "source": [
        "print(\"Squares of integers descending from 10 to 1:\")\n",
        "# Your code goes here"
      ],
      "execution_count": 0,
      "outputs": []
    },
    {
      "cell_type": "code",
      "metadata": {
        "id": "QF_dKvkL5Z22",
        "colab_type": "code",
        "colab": {}
      },
      "source": [
        "# Here's a static list to work with in for the next cells\n",
        "sample_list = [\n",
        "    469, 755, 244, 245, 758, 450, \n",
        "    302, 20, 712, 71, 456, 21, 398, \n",
        "    339, 882, 848, 179, 535, 940, 472\n",
        "]"
      ],
      "execution_count": 0,
      "outputs": []
    },
    {
      "cell_type": "markdown",
      "metadata": {
        "id": "ozy_qT7j5Z25",
        "colab_type": "text"
      },
      "source": [
        "11. Print the elements of sample_list, and the count of elements.\n"
      ]
    },
    {
      "cell_type": "code",
      "metadata": {
        "id": "XGkHl1eA5Z25",
        "colab_type": "code",
        "colab": {}
      },
      "source": [
        "print(\"Elements and count of sample_list:\")\n",
        "# Your code goes here"
      ],
      "execution_count": 0,
      "outputs": []
    },
    {
      "cell_type": "markdown",
      "metadata": {
        "id": "4bN5Epm55Z27",
        "colab_type": "text"
      },
      "source": [
        "12. Print only the even numbers contained in sample_list, and their count."
      ]
    },
    {
      "cell_type": "code",
      "metadata": {
        "id": "gn8bNLBn5Z28",
        "colab_type": "code",
        "colab": {}
      },
      "source": [
        "print(\"Even elements and their count:\")\n",
        "# Your code goes here"
      ],
      "execution_count": 0,
      "outputs": []
    },
    {
      "cell_type": "markdown",
      "metadata": {
        "id": "9sWSwGXj5Z2-",
        "colab_type": "text"
      },
      "source": [
        "13. Print only the odd numbers contained in sample_list, and their count."
      ]
    },
    {
      "cell_type": "code",
      "metadata": {
        "id": "6GzTSySh5Z2-",
        "colab_type": "code",
        "colab": {}
      },
      "source": [
        "print(\"Odd elements and their count:\")\n",
        "# Your code goes here"
      ],
      "execution_count": 0,
      "outputs": []
    },
    {
      "cell_type": "markdown",
      "metadata": {
        "id": "jlLWnN9Q5Z3A",
        "colab_type": "text"
      },
      "source": [
        "14. Print the square of each element in sample_list."
      ]
    },
    {
      "cell_type": "code",
      "metadata": {
        "id": "xhFSNi445Z3A",
        "colab_type": "code",
        "colab": {}
      },
      "source": [
        "print(\"Squares of elements of sample_list:\")\n",
        "# Your code goes here"
      ],
      "execution_count": 0,
      "outputs": []
    },
    {
      "cell_type": "markdown",
      "metadata": {
        "id": "omChEJl55Z3D",
        "colab_type": "text"
      },
      "source": [
        "15. Print the sum of all the integers from 1 to 20."
      ]
    },
    {
      "cell_type": "code",
      "metadata": {
        "id": "K9mCEmw65Z3E",
        "colab_type": "code",
        "colab": {}
      },
      "source": [
        "print(\"Sum of integers from 1 to 20:\")\n",
        "# Your code goes here"
      ],
      "execution_count": 0,
      "outputs": []
    },
    {
      "cell_type": "markdown",
      "metadata": {
        "id": "QWX5X-6A5Z3G",
        "colab_type": "text"
      },
      "source": [
        "16. Print the sum of all the elements in sample_list."
      ]
    },
    {
      "cell_type": "code",
      "metadata": {
        "id": "Vd4yzR4O5Z3G",
        "colab_type": "code",
        "colab": {}
      },
      "source": [
        "print(\"Sum of elements of sample_list:\")\n",
        "# Your code goes here"
      ],
      "execution_count": 0,
      "outputs": []
    },
    {
      "cell_type": "markdown",
      "metadata": {
        "id": "sgGQm9sW5Z3I",
        "colab_type": "text"
      },
      "source": [
        "17. Print the smallest (min) element in sample_list."
      ]
    },
    {
      "cell_type": "code",
      "metadata": {
        "id": "gWbkmj2Z5Z3I",
        "colab_type": "code",
        "colab": {}
      },
      "source": [
        "print(\"Smallest (min) element of sample_list:\")\n",
        "# Your code goes here"
      ],
      "execution_count": 0,
      "outputs": []
    },
    {
      "cell_type": "markdown",
      "metadata": {
        "id": "p1zUMcrX5Z3K",
        "colab_type": "text"
      },
      "source": [
        "18. Print the largest (max) element in sample_list."
      ]
    },
    {
      "cell_type": "code",
      "metadata": {
        "id": "cXinDtCd5Z3L",
        "colab_type": "code",
        "colab": {}
      },
      "source": [
        "print(\"Largest (max) element of sample_list:\")\n",
        "# Your code goes here"
      ],
      "execution_count": 0,
      "outputs": []
    },
    {
      "cell_type": "markdown",
      "metadata": {
        "id": "Kx5RTa4P5Z3N",
        "colab_type": "text"
      },
      "source": [
        "## NICE JOB!  You are done ... Download/save this notebook as a .py file and submit!"
      ]
    },
    {
      "cell_type": "markdown",
      "metadata": {
        "id": "u2y-xmhj5Z3N",
        "colab_type": "text"
      },
      "source": [
        "_This looping kata prepared by: C1.JakeBerg_"
      ]
    }
  ]
}
