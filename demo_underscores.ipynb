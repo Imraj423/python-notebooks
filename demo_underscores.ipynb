{
  "nbformat": 4,
  "nbformat_minor": 0,
  "metadata": {
    "kernelspec": {
      "display_name": "Python 3",
      "language": "python",
      "name": "python3"
    },
    "language_info": {
      "codemirror_mode": {
        "name": "ipython",
        "version": 3
      },
      "file_extension": ".py",
      "mimetype": "text/x-python",
      "name": "python",
      "nbconvert_exporter": "python",
      "pygments_lexer": "ipython3",
      "version": "3.7.3"
    },
    "colab": {
      "name": "demo_underscores.ipynb",
      "provenance": []
    }
  },
  "cells": [
    {
      "cell_type": "markdown",
      "metadata": {
        "id": "lqxb_tFy1Zb1",
        "colab_type": "text"
      },
      "source": [
        "<table border=\"0\" align=\"left\" width=\"700\" height=\"144\">\n",
        "<tbody>\n",
        "<tr>\n",
        "<td width=\"120\"><img width=\"100\" src=\"https://static1.squarespace.com/static/5992c2c7a803bb8283297efe/t/59c803110abd04d34ca9a1f0/1530629279239/\" /></td>\n",
        "<td style=\"width: 600px; height: 67px;\">\n",
        "<h1 style=\"text-align: left;\">__Dunderscores__</h1>\n",
        "<p><a href=\"https://colab.research.google.com/github/KenzieAcademy/python-notebooks/blob/master/demo_underscores.ipynb\"> <img src=\"https://colab.research.google.com/assets/colab-badge.svg\" alt=\"Open In Colab\" align=\"left\" width=\"188\" height=\"32\" /> </a></p>\n",
        "</td>\n",
        "</tr>\n",
        "</tbody>\n",
        "</table>"
      ]
    },
    {
      "cell_type": "markdown",
      "metadata": {
        "id": "7RB0NP3I1Zb2",
        "colab_type": "text"
      },
      "source": [
        "Excerpted from “Python Tricks: The Book.” by Dan Bader and also from [The Meaning of Underscores in Python](https://dbader.org/blog/meaning-of-underscores-in-python)."
      ]
    },
    {
      "cell_type": "markdown",
      "metadata": {
        "id": "XBbdau4L1Zb2",
        "colab_type": "text"
      },
      "source": [
        "Single and double underscores have a meaning in Python variable and method names. Some of that meaning is merely by convention and intended as a hint to the programmer, and some of it is actually enforced by the Python interpreter.\n",
        "\n",
        "There are five patterns and naming conventions, and they **do** affect the behavior of your Python programs.\n",
        " - Single leading underscore: `_var`\n",
        " - Single trailing Underscore: `var_`\n",
        " - Double leading underscore: `__var`\n",
        " - Double leading and trailing underscore: `__var__`\n",
        " - Single underscore: `_`\n",
        "\n",
        "It is useful to know these conventions when you are reviewing others' code."
      ]
    },
    {
      "cell_type": "markdown",
      "metadata": {
        "id": "d_J1WftO1Zb3",
        "colab_type": "text"
      },
      "source": [
        "## Single Leading Underscore: `_var`\n",
        "\n",
        "The single underscore prefix means that a variable or function is intended for internal use. This convention is defined in [PEP 8](https://www.python.org/dev/peps/pep-0008/#descriptive-naming-styles).\n",
        "\n",
        "This convention is **not** enforced by the Python interpreter, for example, in the way that public and private variables are declared and enforced in some other languages. It is a hint from the programmer that the item is not really meant for public use.\n"
      ]
    },
    {
      "cell_type": "code",
      "metadata": {
        "id": "UWSbOxtK1Zb4",
        "colab_type": "code",
        "colab": {}
      },
      "source": [
        "class Test:\n",
        "    def __init__(self):\n",
        "        self.foo = 11\n",
        "        self._bar = 23\n",
        "\n",
        "print(Test().foo)\n",
        "print(Test()._bar)"
      ],
      "execution_count": 0,
      "outputs": []
    },
    {
      "cell_type": "markdown",
      "metadata": {
        "id": "1PFiPD8S1Zb8",
        "colab_type": "text"
      },
      "source": [
        "As you can see, the leading single underscore in `_bar` did not prevent us from “reaching into” the class and accessing the value of that variable.\n",
        "\n",
        "The single underscore prefix in Python is merely an agreed-upon convention. But, What happens if we try to import an underscore function from a module?"
      ]
    },
    {
      "cell_type": "code",
      "metadata": {
        "id": "ayHEFvfM1Zb8",
        "colab_type": "code",
        "colab": {}
      },
      "source": [
        "# paste this into a module.py\n",
        "# def external_func():\n",
        "#     return 23\n",
        "# def _internal_func():\n",
        "#     return 42\n",
        "\n",
        "from module import *\n",
        "print(external_func())\n",
        "print(_internal_func())"
      ],
      "execution_count": 0,
      "outputs": []
    },
    {
      "cell_type": "markdown",
      "metadata": {
        "id": "7Xf3rW4i1Zb_",
        "colab_type": "text"
      },
      "source": [
        "Wildcard imports should be avoided as they make it unclear which names are present in the namespace. It's better to stick to regular imports for the sake of clarity. Unlike wildcard imports, regular imports are not affected by the leading single underscore naming convention.\n"
      ]
    },
    {
      "cell_type": "code",
      "metadata": {
        "id": "4gGM3lwy1Zb_",
        "colab_type": "code",
        "colab": {}
      },
      "source": [
        "import module\n",
        "print(module.external_func())\n",
        "print(module._internal_func())"
      ],
      "execution_count": 0,
      "outputs": []
    },
    {
      "cell_type": "markdown",
      "metadata": {
        "id": "OUQEuaad1ZcC",
        "colab_type": "text"
      },
      "source": [
        "##  Single Trailing Underscore: `var_`\n",
        "\n",
        "Sometimes the most fitting name for a variable is already taken by a keyword in the Python language. Therefore, names like `class`, `def`, or `list` should not be used as variable names in Python. In this case, you can append a single underscore to break the naming conflict.\n"
      ]
    },
    {
      "cell_type": "code",
      "metadata": {
        "id": "652Fu8n_1ZcD",
        "colab_type": "code",
        "colab": {}
      },
      "source": [
        "def make_object(name, list):\n",
        "    pass\n",
        "\n",
        "def make_object(name, list_):\n",
        "    pass"
      ],
      "execution_count": 0,
      "outputs": []
    },
    {
      "cell_type": "markdown",
      "metadata": {
        "id": "U3jS_Jj01ZcF",
        "colab_type": "text"
      },
      "source": [
        "## Double Leading Underscore: `__var`\n",
        "\n",
        "The naming patterns we've covered so far receive their meaning from agreed-upon conventions only. With Python class attributes (variables and methods) that start with double underscores, things are a little different.\n",
        "\n",
        "A double underscore prefix causes the Python interpreter to rewrite the attribute name in order to avoid naming conflicts in subclasses. This is called _name mangling_. The interpreter changes the name of the variable in a way that makes it harder to create collisions when the class is extended later."
      ]
    },
    {
      "cell_type": "code",
      "metadata": {
        "id": "7LxTr0_C1ZcF",
        "colab_type": "code",
        "colab": {}
      },
      "source": [
        "class Test:\n",
        "    def __init__(self):\n",
        "        self.foo = 11\n",
        "        self._bar = 23\n",
        "        self.__baz = 42"
      ],
      "execution_count": 0,
      "outputs": []
    },
    {
      "cell_type": "code",
      "metadata": {
        "id": "m0wnhKpy1ZcK",
        "colab_type": "code",
        "colab": {}
      },
      "source": [
        "t = Test()\n",
        "dir(t)"
      ],
      "execution_count": 0,
      "outputs": []
    },
    {
      "cell_type": "markdown",
      "metadata": {
        "id": "gDaaUMHU1ZcN",
        "colab_type": "text"
      },
      "source": [
        "This gives us a list with the object’s attributes. Let's take this list and look for our original variable names `foo`, `_bar`, and `__baz`. \n",
        "\n",
        " - `self.foo` variable appears unmodified as `foo` in the attribute list.\n",
        " - `self._bar` behaves the same way &mdash; it shows up on the class as `_bar`.\n",
        "\n",
        "### What happened to poor __baz?\n",
        "\n",
        "There's an attribute called `_Test__baz` on this object. This is the name mangling that the Python interpreter applies. It does this to protect the variable from being overridden in subclasses."
      ]
    },
    {
      "cell_type": "code",
      "metadata": {
        "id": "O6o7E87_1ZcN",
        "colab_type": "code",
        "colab": {}
      },
      "source": [
        "# Let's extend the Test class and override the attributes\n",
        "class ExtendedTest(Test):\n",
        "    def __init__(self):\n",
        "        super().__init__()\n",
        "        self.foo = 'overridden'\n",
        "        self._bar = 'overridden'\n",
        "        self.__baz = 'overridden'"
      ],
      "execution_count": 0,
      "outputs": []
    },
    {
      "cell_type": "code",
      "metadata": {
        "id": "uSkmPmXf1ZcP",
        "colab_type": "code",
        "colab": {}
      },
      "source": [
        "et = ExtendedTest()\n",
        "print(et.foo)\n",
        "print(et._bar)\n",
        "print(et.__baz)"
      ],
      "execution_count": 0,
      "outputs": []
    },
    {
      "cell_type": "code",
      "metadata": {
        "id": "TQfeVBhi1ZcR",
        "colab_type": "code",
        "colab": {}
      },
      "source": [
        "class ManglingTest:\n",
        "    def __init__(self):\n",
        "        self.__mangled = \"help I've been mangled!\"\n",
        "\n",
        "    def get_mangled(self):\n",
        "        return self.__mangled\n",
        "\n",
        "mt = ManglingTest()\n",
        "mt.get_mangled()\n",
        "mt.__mangled"
      ],
      "execution_count": 0,
      "outputs": []
    },
    {
      "cell_type": "markdown",
      "metadata": {
        "id": "2Jhsx6MV1ZcT",
        "colab_type": "text"
      },
      "source": [
        "Name mangling affects all names that start with two underscore characters (“dunders”) in a class context &mdash; even method names."
      ]
    },
    {
      "cell_type": "code",
      "metadata": {
        "id": "Sru0jSOE1ZcU",
        "colab_type": "code",
        "colab": {}
      },
      "source": [
        "class MangledMethod:\n",
        "    def __method(self):\n",
        "        return \"Hello from mmmmangled __method\"\n",
        "\n",
        "    def call_it(self):\n",
        "        return self.__method()\n",
        "\n",
        "# Try to invoke it from the outside, with normal dotted notation\n",
        "MangledMethod().__method()"
      ],
      "execution_count": 0,
      "outputs": []
    },
    {
      "cell_type": "code",
      "metadata": {
        "id": "IwRB-beK1ZcW",
        "colab_type": "code",
        "colab": {}
      },
      "source": [
        "# Only works from inside the class itself!\n",
        "MangledMethod().call_it()"
      ],
      "execution_count": 0,
      "outputs": []
    },
    {
      "cell_type": "markdown",
      "metadata": {
        "id": "7f0UCLcw1ZcY",
        "colab_type": "text"
      },
      "source": [
        "#### A bit of subversion\n"
      ]
    },
    {
      "cell_type": "code",
      "metadata": {
        "id": "oCNjQwfU1ZcY",
        "colab_type": "code",
        "colab": {}
      },
      "source": [
        "_MangledGlobal__mangled = 23\n",
        "\n",
        "class MangledGlobal:\n",
        "    def test(self):\n",
        "        # notice that we never even define this in class scope\n",
        "        return __mangled\n",
        "\n",
        "mg = MangledGlobal()\n",
        "print(mg.test())\n",
        "dir(locals())\n",
        "# Where is the _MangledGlobal__mangled context?"
      ],
      "execution_count": 0,
      "outputs": []
    },
    {
      "cell_type": "markdown",
      "metadata": {
        "id": "Ohd7uVi-1Zca",
        "colab_type": "text"
      },
      "source": [
        "This demonstrated that name mangling isn’t tied to class attributes specifically. It applies to any name starting with two underscore characters used in a class context."
      ]
    },
    {
      "cell_type": "markdown",
      "metadata": {
        "id": "GOG2rkpS1Zcb",
        "colab_type": "text"
      },
      "source": [
        "## Double Leading and Trailing Underscore: `__var__`\n",
        "Name mangling is **not** applied if a name starts and ends with double underscores. Variables surrounded by a double underscore prefix and postfix are left unscathed by the Python interpeter.\n",
        "Rule of thumb: Don't use this naming method for your own variables. It's reserved for special use within the Python language itself."
      ]
    },
    {
      "cell_type": "code",
      "metadata": {
        "id": "FgukRw0_1Zcc",
        "colab_type": "code",
        "colab": {}
      },
      "source": [
        "class LeadingTrailingDunder:\n",
        "    def __init__(self):\n",
        "        self.__my_own_dunder__ = 1234\n",
        "\n",
        "LeadingTrailingDunder().__my_own_dunder__"
      ],
      "execution_count": 0,
      "outputs": []
    },
    {
      "cell_type": "markdown",
      "metadata": {
        "id": "QvMJSBVD1Zce",
        "colab_type": "text"
      },
      "source": [
        "## Single Underscore: `_`\n",
        "Per convention, a single standalone underscore is sometimes used as a name to indicate that a variable is temporary or insignificant.\n",
        "\n",
        "For example, in the following loop we don't need access to the running index and we can use `_` to indicate that it is just a temporary value."
      ]
    },
    {
      "cell_type": "code",
      "metadata": {
        "id": "HkAZFg241Zce",
        "colab_type": "code",
        "colab": {}
      },
      "source": [
        "for _ in range(5):\n",
        "    print(\"waiting ...\")"
      ],
      "execution_count": 0,
      "outputs": []
    },
    {
      "cell_type": "markdown",
      "metadata": {
        "id": "_mG5bDXi1Zcg",
        "colab_type": "text"
      },
      "source": [
        "You can also use single underscores in unpacking expressions as a “don't care” variable to ignore particular values. Again, this meaning is “per convention” only and there's no special behavior triggered in the Python interpreter. The single underscore is simply a valid variable name that's sometimes used for this purpose.\n",
        "\n",
        "The following code example unpacks a car tuple into separate variables but we're only interested in the values for color and mileage. However, in order for the unpacking expression to succeed we need to assign all values contained in the tuple to variables. That's where `_` is useful as a placeholder variable."
      ]
    },
    {
      "cell_type": "code",
      "metadata": {
        "id": "8GxD1X7D1Zch",
        "colab_type": "code",
        "colab": {}
      },
      "source": [
        "car = ('red', 'auto', 12, 3812.4)\n",
        "color, _, _, mileage = car\n",
        "\n",
        "print(color)\n",
        "print(mileage)\n"
      ],
      "execution_count": 0,
      "outputs": []
    },
    {
      "cell_type": "markdown",
      "metadata": {
        "id": "xmIeCZlF1_Es",
        "colab_type": "text"
      },
      "source": [
        "#### Single Underscores in Numbers (3.6+)\n",
        "A single underscore can also be used to make long numbers more readable. Python ignores underscores in a number when storing it. Even if the digits are not grouped in threes, the value will still be unaffected. When a number with underscores in it is printed, only the digits are displayed. This works for both ints and floats."
      ]
    },
    {
      "cell_type": "code",
      "metadata": {
        "id": "7MPZ0rkf2PBE",
        "colab_type": "code",
        "colab": {}
      },
      "source": [
        "long_number = 12_000_000  # twelve million\n",
        "print(long_number)\n",
        "\n",
        "misplaced = 12_0000_00  # twelve million\n",
        "print(misplaced)\n",
        "\n",
        "long_decimal = 12_000_000.03\n",
        "print(long_decimal)"
      ],
      "execution_count": 0,
      "outputs": []
    },
    {
      "cell_type": "markdown",
      "metadata": {
        "id": "40opTDlt1Zcj",
        "colab_type": "text"
      },
      "source": [
        "## Conclusion\n",
        "#### A handy cheat sheet\n",
        "\n",
        "|Pattern  |Example  |Meaning |   |   |\n",
        "|---|---|---|---|---|\n",
        "|Single Leading Underscore   | `_var`  | Naming convention indicating a name is meant for internal use. Generally not enforced by the Python interpreter (except in wildcard imports) and meant as a hint to the programmer only.  |   |   |\n",
        "|Single Trailing Underscore   |`var_`   |Used by convention to avoid naming conflicts with Python keywords.  |   |   |\n",
        "|Double Leading Underscore   |`__var`   | Triggers name mangling when used in a class context. Enforced by the Python interpreter.  |   |   |\n",
        "|Double Leading and Trailing Underscore  |`__var__`   |Indicates special methods defined by the Python language. Avoid this naming scheme for your own attributes.   |   |   |\n",
        "|Single Underscore   |`_`   |Sometimes used as a name for temporary or insignificant variables (“don’t care”). Also: A digit separator for long numbers, or the result of the last expression in a Python REPL.   |   |   |\n",
        "\t\t"
      ]
    }
  ]
}