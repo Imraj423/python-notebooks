{
  "nbformat": 4,
  "nbformat_minor": 0,
  "metadata": {
    "colab": {
      "name": "Algorithms - Quicksort",
      "provenance": [],
      "collapsed_sections": []
    },
    "kernelspec": {
      "name": "python3",
      "display_name": "Python 3"
    }
  },
  "cells": [
    {
      "cell_type": "markdown",
      "metadata": {
        "id": "zK1Y0Fg0jsT3",
        "colab_type": "text"
      },
      "source": [
        "<table border=\"0\" align=\"left\" width=\"700\" height=\"144\">\n",
        "<tbody>\n",
        "<tr>\n",
        "<td width=\"120\"><img width=\"100\" src=\"https://static1.squarespace.com/static/5992c2c7a803bb8283297efe/t/59c803110abd04d34ca9a1f0/1530629279239/\" /></td>\n",
        "<td style=\"width: 600px; height: 67px;\">\n",
        "<h1 style=\"text-align: left;\">Algorithms: Quicksort</h1>\n",
        "<p><em>with excerpts from Grokking Algorithms, by Aditya Y. Bhargava</em>\n",
        "<p><a href=\"https://colab.research.google.com/github/KenzieAcademy/python-notebooks/blob/master/demo_quicksort.ipynb\"> <img src=\"https://colab.research.google.com/assets/colab-badge.svg\" alt=\"Open In Colab\" align=\"left\" width=\"188\" height=\"32\" /> </a></p>\n",
        "</td>\n",
        "</tr>\n",
        "</tbody>\n",
        "</table>"
      ]
    },
    {
      "cell_type": "markdown",
      "metadata": {
        "id": "gFMp0YsudLdX",
        "colab_type": "text"
      },
      "source": [
        "In order to arrive at Quicksort, let's start with the simpler **selection sort**.\n",
        "\n",
        "### Selection Sort\n",
        "Suppose you have a bunch of music on your computer, and, for each artist, you have a play count. You want to sort this list from most to least played, so that you can rank your favorite artists.\n",
        "\n",
        "One way to accomplish this would be to go through the list and find the most-played artist and add that artist to a new list. Then, do it again to find the next-most-played artist. Keep doing this and you'll end up with a sorted list.\n",
        "\n",
        "To illustrate this idea using a simple list of numbers, sorting from greatest to least, that would look like this:\n",
        "\n",
        "```python\n",
        "[3, 7, 2, 9, 4, 13, 1, 8]\n",
        "                ^-highest -> [13]\n",
        "[3, 7, 2, 9, 4, 1, 8]\n",
        "          ^-highest -------> [13, 9]\n",
        "[3, 7, 2, 4, 1, 8]\n",
        "                ^----------> [13, 9, 8]\n",
        "[3, 7, 2, 4, 1]\n",
        "    ^----------------------> [13, 9, 8, 7]\n",
        "[3, 2, 4, 1]\n",
        "       ^-------------------> [13, 9, 8, 7, 4]\n",
        "[3, 2, 1]\n",
        " ^-------------------------> [13, 9, 8, 7, 4, 3]\n",
        "[2, 1]\n",
        " ^-------------------------> [13, 9, 8, 7, 4, 3, 2]\n",
        "[1]\n",
        " ^-------------------------> [13, 9, 8, 7, 4, 3, 2, 1]\n",
        "[]\n",
        "DONE\n",
        "```\n",
        "\n",
        "In order to find the highest number, you have to check each item in the list. This represents **O(n)** time, or *linear time*. However, you also have to do that *n* times, once for each item in the list. That means that the time cost of a selection sort is **O(n x n)**, commonly known as **O(n<sup>2</sup>)**."
      ]
    },
    {
      "cell_type": "code",
      "metadata": {
        "id": "1YYAUBjLjzfQ",
        "colab_type": "code",
        "colab": {}
      },
      "source": [
        "# Selection sort\n",
        "def selection_sort(list_):\n",
        "  new_list = []\n",
        "  for i in range(len(list_)):\n",
        "    smallest_index = 0\n",
        "    for j in range(1, len(list_)):\n",
        "      if list_[j] < list_[smallest_index]:\n",
        "        smallest_index = j\n",
        "    new_list.append(list_.pop(smallest_index))\n",
        "  return new_list\n",
        "\n",
        "selection_sort([3, 7, 2, 9, 4, 13, 1, 8])"
      ],
      "execution_count": null,
      "outputs": []
    },
    {
      "cell_type": "markdown",
      "metadata": {
        "id": "5LCDgesZjz6C",
        "colab_type": "text"
      },
      "source": [
        "Selection sort is a neat algorithm, but it's not very fast."
      ]
    },
    {
      "cell_type": "markdown",
      "metadata": {
        "id": "Qs9Wc0CDcLPH",
        "colab_type": "text"
      },
      "source": [
        "**Quicksort** is a sorting algorithm that is much faster than selection sort. Before we dive into the details of it, let's take a look at the strategy behind it.\n",
        "\n",
        "### Divide and Conquer\n",
        "Quicksort uses a technique called **divide and conquer**, which is a recursive technique for solving problems. Divide and conquer is not a simple algorithm that you can apply to a problem. Instead, it is a way to think about a problem.\n",
        "\n",
        "You're given a list of numbers.\n",
        "\n",
        "```python\n",
        "[2, 4, 6]\n",
        "```\n",
        "\n",
        "You have to add up all the numbers and return the total. It's pretty easy to do this with a loop."
      ]
    },
    {
      "cell_type": "code",
      "metadata": {
        "id": "AongY9YtQqz0",
        "colab_type": "code",
        "colab": {}
      },
      "source": [
        "# iterative sum function\n",
        "def get_sum(list_):\n",
        "    total = 0\n",
        "    for x in list_:\n",
        "        total += x\n",
        "    return total\n",
        "\n",
        "get_sum([2, 4, 6])"
      ],
      "execution_count": null,
      "outputs": []
    },
    {
      "cell_type": "markdown",
      "metadata": {
        "id": "YAuIeqM_Q5nq",
        "colab_type": "text"
      },
      "source": [
        "But, how would you do this with a recursive function?\n",
        "\n",
        "1. Figure out the base case.\n",
        "  * What's the simplest list you could get? A list with 0 or 1 element is pretty easy to sum. Let's use an empty list as the base case.\n",
        "2. You need to move closer to an empty list with every recursive call.\n",
        "  * How do you reduce your problem size? The following two approaches are the same, but in the second version, you're passing a smaller list into the `sum()` function. That is, you *decrease the size of your problem*.\n",
        "    * sum([2, 4, 6]) = 12\n",
        "    * 2 + sum([4, 6]) = 2 + 10 = 12\n",
        "\n",
        "Now, our `sum()` function could work like this:\n",
        "  1. Get a list.\n",
        "  2. If the list is empty, return zero.\n",
        "  3. Otherwise, the total sum is the first number in the list plus the sum of the rest of the list.\n",
        "\n",
        "This ends up looking like this:\n",
        "* sum([2, 4, 6])\n",
        "* 2 + sum([4, 6])\n",
        "* 4 + sum([6])\n",
        "* 6 + sum(`[ ]`)\n",
        "* `[ ]`  # base case!"
      ]
    },
    {
      "cell_type": "code",
      "metadata": {
        "id": "ptpLYW-Dn22O",
        "colab_type": "code",
        "colab": {}
      },
      "source": [
        "# recursive sum function\n",
        "def r_sum(list_):\n",
        "  if not list_:\n",
        "    # base case -- list is empty\n",
        "    return 0\n",
        "  # recursive case -- remove the first number and\n",
        "  # add it to the sum of the rest of the numbers\n",
        "  return list_.pop() + r_sum(list_)\n",
        "\n",
        "r_sum([2, 4, 6])"
      ],
      "execution_count": null,
      "outputs": []
    },
    {
      "cell_type": "markdown",
      "metadata": {
        "id": "fmhR2hSacfNH",
        "colab_type": "text"
      },
      "source": [
        "What's the simplest list that can make use of a sorting algorithm? Well, some lists don't need to be sorted at all (e.g., `[]`, `[20]`).\n",
        "\n",
        "Empty lists and lists with just one element will be the base case. You can just return those lists as is &mdash; there's nothing to sort.\n",
        "\n",
        "Let's use the following list as an example:\n",
        "* `[33, 15, 10]`\n",
        "\n",
        "Now, remember you're using Divide and Conquer, so you want to break down this list until you arrive at the base case.\n",
        "\n",
        "Here's how **quicksort** works.\n",
        "1. Pick an element from the list &mdash; this is called the *pivot*.\n",
        "  * Let's use the first element of the list, `33`, as the pivot.\n",
        "2. Find the elements smaller than the pivot and the elements larger than the pivot &mdash; this is called partitioning.\n",
        "  * smaller than pivot: `[15, 10]`\n",
        "  * pivot: `33`\n",
        "  * greater than pivot: `[]`\n",
        "\n",
        "At this point, the two sub-lists, \"smaller than\" and \"greater than\", are not sorted. They're just partitioned. But if, by chance, they *were* sorted, then sorting the whole list would be pretty easy:\n",
        "\n",
        "```python\n",
        "# \"smaller than\" list already sorted\n",
        "[10, 15] + [pivot] + []\n",
        "```\n",
        "\n",
        "So, how do you sort the sub-lists? Well, the quicksort base case already knows how to sort lists of two elements (the left sub-list) and empty lists (the right sub-list), so if you call quicksort on the two sub-lists and then combine the results you get a sorted list!\n",
        "\n",
        "```python\n",
        "quicksort([15, 10]) + [33] + quicksort([])\n",
        "[10, 15, 33]\n",
        "```\n"
      ]
    },
    {
      "cell_type": "code",
      "metadata": {
        "id": "ydZed7KXjqPQ",
        "colab_type": "code",
        "colab": {}
      },
      "source": [
        "# quicksort function\n",
        "def quicksort(list_):\n",
        "  if len(list_) < 2:\n",
        "    # base case: lists with 0 or 1 element are already \"sorted\"\n",
        "    return list_\n",
        "  else:\n",
        "    # recursive case\n",
        "    pivot = list_[0]\n",
        "    less = [i for i in list_[1:] if i <= pivot]  # sub-list of all elements less than the pivot\n",
        "    greater = [i for i in list_[1:] if i > pivot]  # sub-list of all elements greater than the pivot\n",
        "    return quicksort(less) + [pivot] + quicksort(greater)"
      ],
      "execution_count": 33,
      "outputs": []
    },
    {
      "cell_type": "code",
      "metadata": {
        "id": "OmePPap0kQWE",
        "colab_type": "code",
        "colab": {}
      },
      "source": [
        "print(quicksort([33, 15, 10]))"
      ],
      "execution_count": null,
      "outputs": []
    },
    {
      "cell_type": "markdown",
      "metadata": {
        "id": "gTVVtrdMqX-m",
        "colab_type": "text"
      },
      "source": [
        "### Big O\n",
        "With quicksort, the best case for time cost is also the average case! If you choose a random element from a list as the pivot, quicksort will complete in **O(*n* log *n*)** time on average.\n",
        "\n",
        "Quicksort is one of the fastest sorting algorithms!"
      ]
    }
  ]
}