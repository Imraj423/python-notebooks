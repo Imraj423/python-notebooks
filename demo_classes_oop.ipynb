{
  "nbformat": 4,
  "nbformat_minor": 0,
  "metadata": {
    "kernelspec": {
      "name": "python3",
      "display_name": "Python 3"
    },
    "colab": {
      "name": "demo_classes_oop.ipynb",
      "provenance": []
    }
  },
  "cells": [
    {
      "cell_type": "markdown",
      "metadata": {
        "id": "NponoejRPbOz",
        "colab_type": "text"
      },
      "source": [
        "<table style=\"float: left;\">\n",
        "<tbody>\n",
        "<tr>\n",
        "<td ><img src=\"https://static1.squarespace.com/static/5992c2c7a803bb8283297efe/t/59c803110abd04d34ca9a1f0/1530629279239/\" alt=\"Kenzie Logo\" width=\"93\" height=\"93\" /></td>\n",
        "<td >\n",
        "<h1>&nbsp;Intro to Classes and OOP&nbsp;</h1>\n",
        "</td>\n",
        "</tr>\n",
        "</tbody>\n",
        "</table>"
      ]
    },
    {
      "cell_type": "markdown",
      "metadata": {
        "id": "fO4TS09SPbO0",
        "colab_type": "text"
      },
      "source": [
        "<p style=\"float:left\"><a href=\"https://colab.research.google.com/github/KenzieAcademy/python-notebooks/blob/master/demo_classes_oop.ipynb\"> <img src=\"https://colab.research.google.com/assets/colab-badge.svg\" alt=\"Open In Colab\" width=\"188\" height=\"32\" /> </a>\n",
        "</p>"
      ]
    },
    {
      "cell_type": "markdown",
      "metadata": {
        "id": "njN1ruDBPbO1",
        "colab_type": "text"
      },
      "source": [
        "### What Is Object-Oriented Programming (OOP)?\n",
        "\n",
        "Object-oriented Programming, or **OOP** for short, is a programming _paradigm_ which provides a means of structuring programs so that properties and behaviors are bundled into individual objects.\n",
        "\n",
        "### Example Objects\n",
        "\n",
        "Person: \n",
        " - Properties -> Name, Age, Address\n",
        " - Behaviors -> Running, Sleeping, Talking\n",
        "\n",
        "Email:\n",
        " - Properties -> Recipient list, Subject, Body, From\n",
        " - Behaviors -> Send, Add Attachment\n",
        "\n",
        "OOP models real-world entities as software objects, which have some data associated with them and can perform certain functions.\n",
        "\n",
        "The key takeaway is that objects are at the center of the object-oriented programming paradigm, not only representing the data, as in procedural programming, but in the overall structure of the program as well.\n"
      ]
    },
    {
      "cell_type": "markdown",
      "metadata": {
        "id": "z9KXxRcKPbO5",
        "colab_type": "text"
      },
      "source": [
        "## Python Objects (Instances)\n",
        "\n",
        "Classes are used to create new user-defined data structures that contain arbitrary information about something.\n",
        "While the class is the blueprint, an instance is a copy of the class with actual values &mdash; literally an object belonging to a specific class. It’s not an idea anymore; it’s an actual animal, like a dog named Roger who’s eight years old.\n",
        "\n",
        "Put another way, a class is like a form or questionnaire. It defines the needed information. After you fill out the form, your specific copy is an instance of the class; it contains actual information relevant to you.\n",
        "\n",
        "You can fill out multiple copies to create many different instances, but without the form as a guide, you would be lost, not knowing what information is required. Thus, before you can create individual instances of an object, we must first specify what is needed by defining a class."
      ]
    },
    {
      "cell_type": "code",
      "metadata": {
        "id": "KScG5a_YPbO6",
        "colab_type": "code",
        "colab": {}
      },
      "source": [
        "# Python class\n",
        "class Dog:\n",
        "    pass"
      ],
      "execution_count": 1,
      "outputs": []
    },
    {
      "cell_type": "markdown",
      "metadata": {
        "id": "_r8XZnUiPbPC",
        "colab_type": "text"
      },
      "source": [
        "## Instance Attributes\n",
        "All classes create objects, and all objects contain characteristics called attributes (referred to as properties in the opening paragraph). Use the `__init__()` method to initialize (i.e., define) an object’s initial attributes by giving them their default value (or state). The first argument will be the `self` variable, which refers to the object itself once it has been instantiated."
      ]
    },
    {
      "cell_type": "code",
      "metadata": {
        "id": "3PDECJAWPbPC",
        "colab_type": "code",
        "colab": {}
      },
      "source": [
        "class Dog:\n",
        "    # Initializer / Instance Attributes\n",
        "    def __init__(self, name, age):\n",
        "        self.name = name\n",
        "        self.age = age"
      ],
      "execution_count": null,
      "outputs": []
    },
    {
      "cell_type": "markdown",
      "metadata": {
        "id": "_WLbTnZvPbPF",
        "colab_type": "text"
      },
      "source": [
        "Remember: the class is just for **defining** the Dog, not actually creating instances of individual dogs with specific names and ages."
      ]
    },
    {
      "cell_type": "markdown",
      "metadata": {
        "id": "9cnEo1OHPbPG",
        "colab_type": "text"
      },
      "source": [
        "## Class Attributes\n",
        "While instance attributes are specific to each object, class attributes are the same for all instances, which in this case is all dogs."
      ]
    },
    {
      "cell_type": "code",
      "metadata": {
        "id": "q6uW1pmjPbPH",
        "colab_type": "code",
        "colab": {}
      },
      "source": [
        "class Dog:\n",
        "    # Class Attribute\n",
        "    species = 'mammal'\n",
        "\n",
        "    # Initializer / Instance Attributes\n",
        "    def __init__(self, name, age):\n",
        "        self.name = name\n",
        "        self.age = age"
      ],
      "execution_count": 48,
      "outputs": []
    },
    {
      "cell_type": "markdown",
      "metadata": {
        "id": "tUOl8P1DPbPK",
        "colab_type": "text"
      },
      "source": [
        "## Instantiating Objects\n",
        "Instantiating is a fancy term for creating a new, unique instance of a class. OK &mdash; Let's create some doggies!\n",
        "\n",
        "<img align=left width=200 src=\"https://www.rd.com/wp-content/uploads/2018/02/0_Adorable-Puppy-Pictures-that-Will-Make-You-Melt_516537724_ch_ch_FT.jpg\" /><br>"
      ]
    },
    {
      "cell_type": "code",
      "metadata": {
        "id": "e_gwBpBhPbPK",
        "colab_type": "code",
        "colab": {}
      },
      "source": [
        "# What happens if we forget init params?\n",
        "d = Dog()"
      ],
      "execution_count": null,
      "outputs": []
    },
    {
      "cell_type": "code",
      "metadata": {
        "id": "8m5heybgPbPN",
        "colab_type": "code",
        "colab": {}
      },
      "source": [
        "# Instantiate!\n",
        "daisy = Dog('Daisy', 2)\n",
        "benji = Dog('Benji', 0)"
      ],
      "execution_count": 50,
      "outputs": []
    },
    {
      "cell_type": "code",
      "metadata": {
        "id": "ow82vkLQPbPP",
        "colab_type": "code",
        "colab": {}
      },
      "source": [
        "# Access the instance attributes\n",
        "print(f\"{daisy.name} is {daisy.age} and {benji.name} is {benji.age}.\")\n",
        "\n",
        "# Is Daisy a mammal?\n",
        "if daisy.species == \"mammal\":\n",
        "    print(f\"{daisy.name} is a {daisy.species}!\")"
      ],
      "execution_count": null,
      "outputs": []
    },
    {
      "cell_type": "markdown",
      "metadata": {
        "id": "o-7eKaekPbPT",
        "colab_type": "text"
      },
      "source": [
        "## Exercise\n",
        "Using the same `Dog` class, instantiate three new dogs, each with a different age. Then write a function, `get_oldest_dog()`, that takes any number of ages (`*args`) and returns the oldest one. Then, output the age of the oldest dog like so: `The oldest dog is 7 years old.`"
      ]
    },
    {
      "cell_type": "code",
      "metadata": {
        "id": "kbC_SONiPbPT",
        "colab_type": "code",
        "colab": {}
      },
      "source": [
        "# Three Doggies coming right up:\n",
        "\n",
        "# Create dog-age function ... human or dog years?\n",
        "def get_oldest_dog(*args):\n",
        "    pass"
      ],
      "execution_count": null,
      "outputs": []
    },
    {
      "cell_type": "markdown",
      "metadata": {
        "id": "kvcYi3HqPbPV",
        "colab_type": "text"
      },
      "source": [
        "## Instance Methods (not instance attributes)\n",
        "Instance methods are functions that are defined inside a class. They are mainly used to perform operations involving the contents of an instance. For all instance methods, the first argument is always `self`. Python will implicitly provide the object instance as the first argument to all instance methods when they are called. That is why it is referred to as `self` &mdash; it represents the object instance itself."
      ]
    },
    {
      "cell_type": "code",
      "metadata": {
        "id": "Ej6VJWDWPbPW",
        "colab_type": "code",
        "colab": {}
      },
      "source": [
        "class Dog:\n",
        "    # Class Attribute\n",
        "    species = 'mammal'\n",
        "\n",
        "    # Initializer / Instance Attributes\n",
        "    def __init__(self, name, age):\n",
        "        self.name = name\n",
        "        self.age = age\n",
        "\n",
        "    # instance method\n",
        "    def description(self):\n",
        "        return f\"{self.name} is a {self.species} and is {self.age} years old\"\n",
        "\n",
        "    # instance method\n",
        "    def speak(self, sound):\n",
        "        return f\"{self.name} says {sound}\"\n",
        "    \n",
        "\n",
        "# Instantiate the Dog object\n",
        "lexi = Dog(\"Lexi\", 9)\n",
        "\n",
        "# call our instance methods\n",
        "print(lexi.description())\n",
        "print(lexi.speak(\"WOOF\"))\n"
      ],
      "execution_count": null,
      "outputs": []
    },
    {
      "cell_type": "markdown",
      "metadata": {
        "id": "--CDWrnxPbPZ",
        "colab_type": "text"
      },
      "source": [
        "## Object Inheritance\n",
        "Inheritance is the process by which one class takes on the attributes and methods of another. Newly formed classes are called **child** classes, and the classes that child classes are derived from are called **parent** classes.\n",
        "\n",
        "It’s important to note that child classes override or extend the functionality (i.e., attributes and behaviors) of parent classes. In other words, child classes inherit all of the parent’s attributes and behaviors, but can also specify different behavior to follow. The most basic type of class is the `object` class, which all other classes inherit as their parent."
      ]
    },
    {
      "cell_type": "code",
      "metadata": {
        "id": "GJ1mvVOVFAjY",
        "colab_type": "code",
        "colab": {}
      },
      "source": [
        "# The object class from which all other classes implicitly inherit\n",
        "dir(object)"
      ],
      "execution_count": null,
      "outputs": []
    },
    {
      "cell_type": "code",
      "metadata": {
        "id": "lk6yfmRfFU-3",
        "colab_type": "code",
        "colab": {}
      },
      "source": [
        "# Compare this to the above cell and you should notice the similarity\n",
        "class Dog:\n",
        "    pass\n",
        "\n",
        "dir(Dog)"
      ],
      "execution_count": null,
      "outputs": []
    },
    {
      "cell_type": "markdown",
      "metadata": {
        "id": "APtTiJWuEt5Q",
        "colab_type": "text"
      },
      "source": [
        "## Extending the Functionality of a Parent Class\n",
        "Let's continue using the `Dog` class. What’s another way to differentiate one dog from another?"
      ]
    },
    {
      "cell_type": "code",
      "metadata": {
        "id": "NM_TTEiUPbPZ",
        "colab_type": "code",
        "colab": {}
      },
      "source": [
        "# Parent class\n",
        "class Dog:\n",
        "    # Class attribute\n",
        "    species = 'mammal'\n",
        "\n",
        "    # Initializer / Instance attributes\n",
        "    def __init__(self, name, age):\n",
        "        self.name = name\n",
        "        self.age = age\n",
        "\n",
        "    # instance method\n",
        "    def description(self):\n",
        "        return f\"{self.name} is {self.age} years old\"\n",
        "\n",
        "    # instance method\n",
        "    def speak(self):\n",
        "        return f\"{self.name} says GENERIC WOOF\"\n",
        "\n",
        "    # instance method\n",
        "    def run(self, seconds, fps):\n",
        "        \"\"\"How fast is the dog in feet per second (fps)?\"\"\"\n",
        "        distance = seconds * fps\n",
        "        return f\"{self.name} ran {distance} feet in {seconds} seconds\"\n",
        "\n",
        "\n",
        "# Child class (inherits from Dog class)\n",
        "class Cockapoo(Dog):\n",
        "  def run(self, seconds):\n",
        "    distance = seconds * 2\n",
        "    return f\"{self.name} ran {distance} feet in {seconds} seconds with those tiny little legs...\"\n",
        "\n",
        "# Child class (inherits from Dog class)\n",
        "class GreatDane(Dog):\n",
        "  def run(self, seconds):\n",
        "    distance = seconds * 25\n",
        "    return f\"{self.name} ran {distance} feet in {seconds} seconds with those crazy legs!\""
      ],
      "execution_count": 8,
      "outputs": []
    },
    {
      "cell_type": "code",
      "metadata": {
        "id": "KWIskufAPbPc",
        "colab_type": "code",
        "colab": {}
      },
      "source": [
        "# create a Lexi instance\n",
        "lexi = Cockapoo('Lexi', 9)\n",
        "print(lexi.speak())\n",
        "print(lexi.run(30))"
      ],
      "execution_count": null,
      "outputs": []
    },
    {
      "cell_type": "code",
      "metadata": {
        "id": "tCcZ5casPbPe",
        "colab_type": "code",
        "colab": {}
      },
      "source": [
        "# Make a bigger dog!\n",
        "marmaduke = GreatDane('Marmaduke', 5)\n",
        "print(marmaduke.speak())\n",
        "print(marmaduke.run(30))"
      ],
      "execution_count": null,
      "outputs": []
    },
    {
      "cell_type": "markdown",
      "metadata": {
        "id": "jh86AGgBPbPh",
        "colab_type": "text"
      },
      "source": [
        "## Parent or Child?\n",
        "The `isinstance()` function is used to determine if an instance is also an instance of a certain parent class.\n"
      ]
    },
    {
      "cell_type": "code",
      "metadata": {
        "id": "kEEPBEeAPbPi",
        "colab_type": "code",
        "colab": {}
      },
      "source": [
        "# is lexi an instance of a Dog?\n",
        "isinstance(lexi, Dog)"
      ],
      "execution_count": null,
      "outputs": []
    },
    {
      "cell_type": "code",
      "metadata": {
        "id": "woMM4K1-PbPl",
        "colab_type": "code",
        "colab": {}
      },
      "source": [
        "# How about marmaduke?\n",
        "isinstance(marmaduke, Dog)"
      ],
      "execution_count": null,
      "outputs": []
    },
    {
      "cell_type": "code",
      "metadata": {
        "id": "yx0IejztPbPo",
        "colab_type": "code",
        "colab": {}
      },
      "source": [
        "# is lexi a cockapoo?\n",
        "isinstance(lexi, Cockapoo)"
      ],
      "execution_count": null,
      "outputs": []
    },
    {
      "cell_type": "code",
      "metadata": {
        "id": "4Xcy08w8PbPs",
        "colab_type": "code",
        "colab": {}
      },
      "source": [
        "# is lexi a Great Dane?\n",
        "isinstance(lexi, GreatDane)"
      ],
      "execution_count": null,
      "outputs": []
    },
    {
      "cell_type": "markdown",
      "metadata": {
        "id": "iB0IRBv_PbPu",
        "colab_type": "text"
      },
      "source": [
        "## Overriding the Functionality of a Parent Class\n",
        "Child classes can also override attributes and behaviors from their parent class."
      ]
    },
    {
      "cell_type": "code",
      "metadata": {
        "id": "BrLJLJelPbPu",
        "colab_type": "code",
        "colab": {}
      },
      "source": [
        "# Child class (inherits from Dog class)\n",
        "class Cockapoo(Dog):\n",
        "  def speak(self):\n",
        "    return f\"{self.name} says YIP\"\n",
        "\n",
        "class GreatDane(Dog):\n",
        "  def speak(self):\n",
        "    return f\"{self.name} says BOW WOW WOW WOW WOW\""
      ],
      "execution_count": 12,
      "outputs": []
    },
    {
      "cell_type": "code",
      "metadata": {
        "id": "JxRKR2FsPbPy",
        "colab_type": "code",
        "colab": {}
      },
      "source": [
        "lexi = Cockapoo('Lexi', 9)\n",
        "print(lexi.speak())\n",
        "print(lexi.run(60, 2))"
      ],
      "execution_count": null,
      "outputs": []
    },
    {
      "cell_type": "code",
      "metadata": {
        "id": "AzJ6LdyZGW-Y",
        "colab_type": "code",
        "colab": {}
      },
      "source": [
        "marmaduke = GreatDane('marmaduke', 2)\n",
        "print(marmaduke.speak())\n",
        "print(marmaduke.run(60, 25))"
      ],
      "execution_count": null,
      "outputs": []
    },
    {
      "cell_type": "markdown",
      "metadata": {
        "id": "4mRT7JKrPbP8",
        "colab_type": "text"
      },
      "source": [
        "## Checkup\n",
        "    What’s a class?\n",
        "    What’s an instance?\n",
        "    What’s the relationship between a class and an instance?\n",
        "    What’s the Python syntax used for defining a new class?\n",
        "    What’s the spelling convention for a class name?\n",
        "    How do you instantiate, or create an instance of, a class?\n",
        "    How do you access the attributes and behaviors of a class instance?\n",
        "    What’s a method?\n",
        "    What’s the purpose of self?\n",
        "    What’s the purpose of the `__init__` method?\n",
        "    Describe how inheritance helps prevent code duplication.\n",
        "    Can child classes override properties of their parents?"
      ]
    }
  ]
}