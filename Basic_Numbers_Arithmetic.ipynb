{
  "nbformat": 4,
  "nbformat_minor": 0,
  "metadata": {
    "kernelspec": {
      "name": "python3",
      "display_name": "Python 3"
    },
    "colab": {
      "name": "Basic_Numbers_Arithmetic.ipynb",
      "provenance": []
    }
  },
  "cells": [
    {
      "cell_type": "markdown",
      "metadata": {
        "id": "ZCqd9Db-8UBW",
        "colab_type": "text"
      },
      "source": [
        "<table border=\"0\" align=\"left\" width=\"700\" height=\"144\">\n",
        "<tbody>\n",
        "<tr>\n",
        "<td width=\"120\"><img width=\"100\" src=\"https://static1.squarespace.com/static/5992c2c7a803bb8283297efe/t/59c803110abd04d34ca9a1f0/1530629279239/\" /></td>\n",
        "<td style=\"width: 600px; height: 67px;\">\n",
        "<h1 style=\"text-align: left;\">Numbers and Arithmetic</h1>\n",
        "<p><a href=\"https://colab.research.google.com/github/KenzieAcademy/python-notebooks/blob/master/Basic_Numbers_Arithmetic.ipynb\"> <img src=\"https://colab.research.google.com/assets/colab-badge.svg\" alt=\"Open In Colab\" align=\"left\" width=\"188\" height=\"32\" /> </a></p>\n",
        "</td>\n",
        "</tr>\n",
        "</tbody>\n",
        "</table>"
      ]
    },
    {
      "cell_type": "markdown",
      "metadata": {
        "id": "e682JIk78UBX",
        "colab_type": "text"
      },
      "source": [
        "Numbers in python have two main forms:\n",
        " - Integers (whole numbers like 1, 5, 99, -22)\n",
        " - Floating Point (Real numbers with decimal points like 1.2, 3.14159, -42.42)\n",
        " \n",
        "Python can perform math and aritmetic operations easily.  Let's examine what numbers look and feel like in the Python interpreter REPL."
      ]
    },
    {
      "cell_type": "markdown",
      "metadata": {
        "id": "v80DHexK8UBX",
        "colab_type": "text"
      },
      "source": [
        "## Use SHIFT+ENTER to run each cell.\n",
        "These exercises use a tool called Juptyer Notebook.  Here are some quick guidelines:\n",
        " - Each block of python code is called a cell.\n",
        " - You are running an actual python program, cell-by-cell.\n",
        " - You can edit and re-run the code cells in place without overwriting the original notebook.\n",
        " - Don't worry about the `In [x]:` or `Out [y]:` notations on the left margin.\n",
        " - **Variables are remembered between cells.**  \n"
      ]
    },
    {
      "cell_type": "code",
      "metadata": {
        "id": "ekNZEf-p8UBY",
        "colab_type": "code",
        "colab": {}
      },
      "source": [
        "# Here's an integer\n",
        "101"
      ],
      "execution_count": 0,
      "outputs": []
    },
    {
      "cell_type": "code",
      "metadata": {
        "id": "LfmQ_4TC8UBc",
        "colab_type": "code",
        "colab": {}
      },
      "source": [
        "# We can find out what basic type it is:\n",
        "type(101)"
      ],
      "execution_count": 0,
      "outputs": []
    },
    {
      "cell_type": "code",
      "metadata": {
        "id": "KK_iJgxh8UBe",
        "colab_type": "code",
        "colab": {}
      },
      "source": [
        "# Here's a floating point number\n",
        "1.9"
      ],
      "execution_count": 0,
      "outputs": []
    },
    {
      "cell_type": "code",
      "metadata": {
        "id": "EV6wcEwf8UBg",
        "colab_type": "code",
        "colab": {}
      },
      "source": [
        "# What type is it?\n",
        "type(1.9)"
      ],
      "execution_count": 0,
      "outputs": []
    },
    {
      "cell_type": "code",
      "metadata": {
        "id": "uXlVCKVJ8UBj",
        "colab_type": "code",
        "colab": {}
      },
      "source": [
        "# let's try a whole number with a decimal point -- should be a FLOAT\n",
        "type(101.0)"
      ],
      "execution_count": 0,
      "outputs": []
    },
    {
      "cell_type": "code",
      "metadata": {
        "id": "1Vxeb_M48UBl",
        "colab_type": "code",
        "colab": {}
      },
      "source": [
        "# What if we leave off the trailing 0? -- should still be a FLOAT.\n",
        "# Integers cannot have decimal points.\n",
        "type(101.)"
      ],
      "execution_count": 0,
      "outputs": []
    },
    {
      "cell_type": "markdown",
      "metadata": {
        "id": "tiAE0-J18UBo",
        "colab_type": "text"
      },
      "source": [
        "## Basic Arithmetic"
      ]
    },
    {
      "cell_type": "code",
      "metadata": {
        "id": "0v4sjePu8UBo",
        "colab_type": "code",
        "colab": {}
      },
      "source": [
        "# Addition\n",
        "1 + 1"
      ],
      "execution_count": 0,
      "outputs": []
    },
    {
      "cell_type": "code",
      "metadata": {
        "id": "E5rbKDML8UBr",
        "colab_type": "code",
        "colab": {}
      },
      "source": [
        "# Subtraction\n",
        "10 - 4"
      ],
      "execution_count": 0,
      "outputs": []
    },
    {
      "cell_type": "code",
      "metadata": {
        "id": "KaG5AMoF8UBu",
        "colab_type": "code",
        "colab": {}
      },
      "source": [
        "# Multiplication\n",
        "6 * 7"
      ],
      "execution_count": 0,
      "outputs": []
    },
    {
      "cell_type": "code",
      "metadata": {
        "id": "AQLeKcs08UB0",
        "colab_type": "code",
        "colab": {}
      },
      "source": [
        "# Division\n",
        "# There are two types of division in Python.\n",
        "# The return type of a true division (/) operation is always a float. \n",
        "\n",
        "1 / 1 # dividing two ints. This returns a float!"
      ],
      "execution_count": 0,
      "outputs": []
    },
    {
      "cell_type": "code",
      "metadata": {
        "id": "JNwbof4c8UB4",
        "colab_type": "code",
        "colab": {}
      },
      "source": [
        "# The floor division operator (//) makes your intent clear.\n",
        "# This will discard any fractional portion of the division.\n",
        "17 // 3"
      ],
      "execution_count": 0,
      "outputs": []
    },
    {
      "cell_type": "code",
      "metadata": {
        "id": "b9V4uan89o6s",
        "colab_type": "code",
        "colab": {}
      },
      "source": [
        "# If one of the operands is a float, the return value will\n",
        "# be a float, but always with a zero after the decimal point.\n",
        "3 // 1.5"
      ],
      "execution_count": 0,
      "outputs": []
    },
    {
      "cell_type": "code",
      "metadata": {
        "id": "dTLp5dlp8UB6",
        "colab_type": "code",
        "colab": {}
      },
      "source": [
        "# Exponents (powers)\n",
        "2**3"
      ],
      "execution_count": 0,
      "outputs": []
    },
    {
      "cell_type": "code",
      "metadata": {
        "id": "GWeqPFlb_cB0",
        "colab_type": "code",
        "colab": {}
      },
      "source": [
        "# Modulo (remainder)\n",
        "# The modulo operator returns the remainder of a division operation\n",
        "print(4 % 2)\n",
        "print(5 % 2)"
      ],
      "execution_count": 0,
      "outputs": []
    },
    {
      "cell_type": "code",
      "metadata": {
        "id": "VrrdzVeY8UB8",
        "colab_type": "code",
        "colab": {}
      },
      "source": [
        "# Order of Operations\n",
        "1 + 2 * 1000 + 1"
      ],
      "execution_count": 0,
      "outputs": []
    },
    {
      "cell_type": "code",
      "metadata": {
        "id": "SzgNGf6L8UB-",
        "colab_type": "code",
        "colab": {}
      },
      "source": [
        "# Use parentheses to make your intent clear...and correct\n",
        "(1 + 2) * (1000 + 1)"
      ],
      "execution_count": 0,
      "outputs": []
    },
    {
      "cell_type": "markdown",
      "metadata": {
        "id": "heA40HUu8UCA",
        "colab_type": "text"
      },
      "source": [
        "Python's floats are internally represented using binary [IEEE 754 standard](https://en.wikipedia.org/wiki/IEEE_754) for floating point numbers.  They lack precision, and rounding errors are possible. For a more in-depth explanation of floating point operations within Python, see [Floating point Issues and Limitations](https://docs.python.org/3/tutorial/floatingpoint.html)"
      ]
    },
    {
      "cell_type": "code",
      "metadata": {
        "id": "smn5J6JF8UCB",
        "colab_type": "code",
        "colab": {}
      },
      "source": [
        "# Peek under the floating-point hood for a moment ...\n",
        "from decimal import Decimal\n",
        "# assign the float value of 0.1 to a variable\n",
        "number = 0.1\n",
        "# let's have a look at what's really inside!\n",
        "unrounded_number = Decimal(number)\n",
        "\n",
        "print(number)\n",
        "print(unrounded_number)"
      ],
      "execution_count": 0,
      "outputs": []
    },
    {
      "cell_type": "markdown",
      "metadata": {
        "id": "fuDHQ-k68UCD",
        "colab_type": "text"
      },
      "source": [
        "## Assigning Variables\n"
      ]
    },
    {
      "cell_type": "code",
      "metadata": {
        "id": "DFPCuwc-8UCD",
        "colab_type": "code",
        "colab": {}
      },
      "source": [
        "# Here's some plain old integer assignment. Don't have to declare its type beforehand!\n",
        "a = 2"
      ],
      "execution_count": 0,
      "outputs": []
    },
    {
      "cell_type": "code",
      "metadata": {
        "id": "41OeK9R_8UCF",
        "colab_type": "code",
        "colab": {}
      },
      "source": [
        "# Python knows the type.\n",
        "type(a)"
      ],
      "execution_count": 0,
      "outputs": []
    },
    {
      "cell_type": "code",
      "metadata": {
        "id": "cBrcqyvg8UCH",
        "colab_type": "code",
        "colab": {}
      },
      "source": [
        "# Addition with variables\n",
        "a + 3"
      ],
      "execution_count": 0,
      "outputs": []
    },
    {
      "cell_type": "code",
      "metadata": {
        "id": "vRqrhW7K8UCJ",
        "colab_type": "code",
        "colab": {}
      },
      "source": [
        "# Another assignment\n",
        "b = 3"
      ],
      "execution_count": 0,
      "outputs": []
    },
    {
      "cell_type": "code",
      "metadata": {
        "id": "sFRprZer8UCK",
        "colab_type": "code",
        "colab": {}
      },
      "source": [
        "# Adding two variables\n",
        "a + b"
      ],
      "execution_count": 0,
      "outputs": []
    },
    {
      "cell_type": "code",
      "metadata": {
        "id": "BMzItEJ28UCM",
        "colab_type": "code",
        "colab": {}
      },
      "source": [
        "# Reassignment -- give a new value to a.\n",
        "a = 1000"
      ],
      "execution_count": 0,
      "outputs": []
    },
    {
      "cell_type": "code",
      "metadata": {
        "id": "S1skmCAz8UCO",
        "colab_type": "code",
        "colab": {}
      },
      "source": [
        "a + b"
      ],
      "execution_count": 0,
      "outputs": []
    },
    {
      "cell_type": "code",
      "metadata": {
        "id": "0rLJ1Nxv8UCR",
        "colab_type": "code",
        "colab": {}
      },
      "source": [
        "# You can assign the same variable to itself. The right-hand side is evaluated first.\n",
        "a = a + a"
      ],
      "execution_count": 0,
      "outputs": []
    },
    {
      "cell_type": "code",
      "metadata": {
        "id": "nVX8R8g38UCT",
        "colab_type": "code",
        "colab": {}
      },
      "source": [
        "# Notice that if you run the cell above several times, the value of `a` gets incremented.\n",
        "# Variables are persistent across Notebook cells.\n",
        "a"
      ],
      "execution_count": 0,
      "outputs": []
    },
    {
      "cell_type": "code",
      "metadata": {
        "id": "Ii9P7iD18UCV",
        "colab_type": "code",
        "colab": {}
      },
      "source": [
        "# You may encounter shorthand notation `+=` for incrementing a variable.\n",
        "# Run this cell a couple of times and see that `a` increments.\n",
        "a += 2\n",
        "a"
      ],
      "execution_count": 0,
      "outputs": []
    },
    {
      "cell_type": "markdown",
      "metadata": {
        "id": "PK134xsm8UCW",
        "colab_type": "text"
      },
      "source": [
        "## The Python Underscore _\n",
        "The underscore `_` has [special meaning](https://dbader.org/blog/meaning-of-underscores-in-python) in Python.\n",
        "You will encounter this **ALL THE TIME** when reading and writing Python code.\n",
        "In the interactive environment, it holds the value of the most recent expression.  This variable should be treated as read-only by the user. Don’t explicitly assign a value to it — you would create an independent local variable with the same name masking the built-in variable with its magic behavior."
      ]
    },
    {
      "cell_type": "code",
      "metadata": {
        "id": "ijnH4Fgd8UCX",
        "colab_type": "code",
        "colab": {}
      },
      "source": [
        "# What does it hold right now?  Should be the value of variable a from above.\n",
        "_"
      ],
      "execution_count": 0,
      "outputs": []
    },
    {
      "cell_type": "code",
      "metadata": {
        "id": "BCbpX01h8UCY",
        "colab_type": "code",
        "colab": {}
      },
      "source": [
        "10  # A new simple expression -- just '10'"
      ],
      "execution_count": 0,
      "outputs": []
    },
    {
      "cell_type": "code",
      "metadata": {
        "id": "nSaWbP3Z8UCb",
        "colab_type": "code",
        "colab": {}
      },
      "source": [
        "_  # The underscore (nameless variable) holds the last expression."
      ],
      "execution_count": 0,
      "outputs": []
    }
  ]
}