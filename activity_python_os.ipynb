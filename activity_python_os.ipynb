{
  "nbformat": 4,
  "nbformat_minor": 0,
  "metadata": {
    "colab": {
      "name": "activity_python_os.ipynb",
      "provenance": [],
      "authorship_tag": "ABX9TyNJK8aRfqvzn/ABl4y3TkFG",
      "include_colab_link": true
    },
    "kernelspec": {
      "name": "python3",
      "display_name": "Python 3"
    }
  },
  "cells": [
    {
      "cell_type": "markdown",
      "metadata": {
        "id": "view-in-github",
        "colab_type": "text"
      },
      "source": [
        "<a href=\"https://colab.research.google.com/github/KenzieAcademy/python-notebooks/blob/master/activity_python_os.ipynb\" target=\"_parent\"><img src=\"https://colab.research.google.com/assets/colab-badge.svg\" alt=\"Open In Colab\"/></a>"
      ]
    },
    {
      "cell_type": "markdown",
      "metadata": {
        "id": "-tB-TaevN9SW",
        "colab_type": "text"
      },
      "source": [
        "<img height=\"100px\" src=\"https://drive.google.com/uc?export=view&id=1Wv8etUe0EkGNpFe2n3lDLA3DsIFxEtAf\" />\n",
        "\n",
        "# Exploring Python's OS Library"
      ]
    },
    {
      "cell_type": "markdown",
      "metadata": {
        "id": "ibfKhwiaPKsa",
        "colab_type": "text"
      },
      "source": [
        "In Python, one of the most heavily used features of the language is the ability to manipulate local files:  Reading, writing, listing, sizing, checking, removing .. you get the idea.  To do this, Python provides a Standard Libary module named `os` (lowercase of course).  There is also a submodule within `os` named `os.path`.  The functionality between these modules can be roughly stated as:\n",
        " - os.path : Working with pathnames (joining directories, filenames, extensions, basenames, absolute paths)\n",
        " - os : Doing things with pathnames (creating, removing, copying, etc)\n",
        "\n",
        "As the name implies, `os` is Python's interface with your local operating system (MacOS, Linux, Windows).  Python’s `os` module does a little bit of everything; it’s sort of a junk drawer for system-related stuff.  In this activity we'll explore some of the capabilities of both of these standard libraries."
      ]
    },
    {
      "cell_type": "markdown",
      "metadata": {
        "id": "iEC5JCoNqpxE",
        "colab_type": "text"
      },
      "source": [
        "## References\n",
        "- https://docs.python.org/3/library/os.html"
      ]
    },
    {
      "cell_type": "markdown",
      "metadata": {
        "id": "XfQGx48WTr--",
        "colab_type": "text"
      },
      "source": [
        "# Traversing the File System\n",
        "You might recall that different filesystems have different ways of representing paths.\n",
        " - Windows: `C:\\Users\\name`\n",
        " - Mac/Linux: `/home/name`\n",
        "Notice that Windows uses the backslash `\\` as a path delimiter.  MacOS/Linux uses a forward slash `/`.   The `os` module is able to navigate around in the local filesystem, regardless of what OS you are using.  \n",
        "\n",
        "Be careful when constructing your own hard-coded pathnames\n",
        "```python\n",
        "folder = \"home\"\n",
        "user = \"daniel\"\n",
        "pathname = folder + \"/\" + user  # NO\n",
        "pathname = os.path.join(folder, user)  # YES\n",
        "```\n",
        "The first form is \"brittle\" and will break if you try to run your Python program on a Windows machine.  By allowing Python to choose the correct path delimiter with the `os.path.join` function, the second form is now flexible and will work on all platforms."
      ]
    },
    {
      "cell_type": "markdown",
      "metadata": {
        "id": "fwMgTzQfXjTi",
        "colab_type": "text"
      },
      "source": [
        "# Exercises\n",
        "In each of the exercises, replace any `???` with an appropriate function call from the os module.  Example:\n",
        "```python\n",
        "# list files\n",
        "os.??? --> os.listdir()\n",
        "```"
      ]
    },
    {
      "cell_type": "code",
      "metadata": {
        "id": "gUSdBjMneh5O",
        "colab_type": "code",
        "colab": {}
      },
      "source": [
        "# Before we begin the exercises, let's set up a handy function to print data.\n",
        "import json\n",
        "def print_data(title, data):\n",
        "    print(f\"{title}\\n{json.dumps(data, indent=4)}\")"
      ],
      "execution_count": 0,
      "outputs": []
    },
    {
      "cell_type": "markdown",
      "metadata": {
        "id": "lsqC8XPwXstv",
        "colab_type": "text"
      },
      "source": [
        "## 1. Listing items: listdir, scandir, walk\n",
        "Note the title uses the word \"items\".  This is because a directory may contain files as well as more directories.  So we call everything an 'item' in a directory.  This notebook may be running on your local machine if you copied it, but chances are it is running on a cloud server somewhere.  Lets have a look around:"
      ]
    },
    {
      "cell_type": "code",
      "metadata": {
        "id": "KXuJL6HQH1Pk",
        "colab_type": "code",
        "colab": {
          "base_uri": "https://localhost:8080/",
          "height": 52
        },
        "outputId": "238764a1-7ee2-4f16-87a7-adfd51760a9f"
      },
      "source": [
        "import os\n",
        "\n",
        "# Where are we?\n",
        "cwd = os.getcwd()\n",
        "print_data(\"Current directory:\", cwd)"
      ],
      "execution_count": 57,
      "outputs": [
        {
          "output_type": "stream",
          "text": [
            "Current directory:\n",
            "\"/content\"\n"
          ],
          "name": "stdout"
        }
      ]
    },
    {
      "cell_type": "markdown",
      "metadata": {
        "id": "CTkj59mHc_Xn",
        "colab_type": "text"
      },
      "source": [
        "### Output from cell below should look like this:\n",
        "```console\n",
        "Current Dir Items:\n",
        "[\n",
        "    \".config\",\n",
        "    \"sample_data\"\n",
        "]\n",
        "```"
      ]
    },
    {
      "cell_type": "code",
      "metadata": {
        "id": "nz4NNwbNI8Zi",
        "colab_type": "code",
        "colab": {
          "base_uri": "https://localhost:8080/",
          "height": 104
        },
        "outputId": "219a0a4e-c7b0-446c-e7c8-fcc84b4c2918"
      },
      "source": [
        "# What files and/or directories are here?\n",
        "file_list = os.listdir()  # Gets a list of items in the current directory\n",
        "print_data(\"Current Dir Items:\", file_list)"
      ],
      "execution_count": 58,
      "outputs": [
        {
          "output_type": "stream",
          "text": [
            "Current Dir Items:\n",
            "[\n",
            "    \".config\",\n",
            "    \"sample_data\"\n",
            "]\n"
          ],
          "name": "stdout"
        }
      ]
    },
    {
      "cell_type": "markdown",
      "metadata": {
        "id": "f861M_iMoTvy",
        "colab_type": "text"
      },
      "source": [
        "If more information is needed than just the names of the files, it is more efficient to use `scandir()` than `listdir()` because more information is collected in one system call when the directory is scanned.\n",
        "\n"
      ]
    },
    {
      "cell_type": "code",
      "metadata": {
        "id": "qO19A7AVohxg",
        "colab_type": "code",
        "colab": {
          "base_uri": "https://localhost:8080/",
          "height": 52
        },
        "outputId": "29f2321b-41b9-425a-cdcf-2aa31652a237"
      },
      "source": [
        "# Get some more details about each item\n",
        "for item in os.scandir():\n",
        "    if item.is_dir():\n",
        "        typ = 'D'\n",
        "    elif item.is_file():\n",
        "        typ = 'F'\n",
        "    elif item.is_symlink():\n",
        "        typ = 'L'\n",
        "    else:\n",
        "        typ = '?'\n",
        "    print(f'{item.name} {typ}')"
      ],
      "execution_count": 63,
      "outputs": [
        {
          "output_type": "stream",
          "text": [
            ".config D\n",
            "sample_data D\n"
          ],
          "name": "stdout"
        }
      ]
    },
    {
      "cell_type": "markdown",
      "metadata": {
        "id": "_X9S4uTPd01B",
        "colab_type": "text"
      },
      "source": [
        "### A deeper look\n",
        "We can use a for-loop to probe into the `file_list` that was returned.  Output from cell below should look like this:\n",
        "```console\n",
        "Contents of .config:\n",
        "[\n",
        "    \".last_update_check.json\",\n",
        "    \".last_opt_in_prompt.yaml\",\n",
        "    \"gce\",\n",
        "    \"logs\",\n",
        "    \".last_survey_prompt.yaml\",\n",
        "    \"active_config\",\n",
        "    \"config_sentinel\",\n",
        "    \"configurations\",\n",
        "    \".metricsUUID\"\n",
        "]\n",
        "Contents of sample_data:\n",
        "[\n",
        "    \"README.md\",\n",
        "    \"anscombe.json\",\n",
        "    \"california_housing_train.csv\",\n",
        "    \"california_housing_test.csv\",\n",
        "    \"mnist_train_small.csv\",\n",
        "    \"mnist_test.csv\"\n",
        "]\n",
        "```\n"
      ]
    },
    {
      "cell_type": "code",
      "metadata": {
        "id": "F86MaCyvd4E0",
        "colab_type": "code",
        "colab": {
          "base_uri": "https://localhost:8080/",
          "height": 380
        },
        "outputId": "e78623fa-5192-4107-eb0e-543eb2763fd8"
      },
      "source": [
        "# Let's go one level deeper: List each item in the list.\n",
        "for item in file_list:\n",
        "    content_list = os.listdir(item)  # content_list is NOT sorted.\n",
        "    print_data(f\"Contents of {item}:\", content_list)"
      ],
      "execution_count": 44,
      "outputs": [
        {
          "output_type": "stream",
          "text": [
            "Contents of .config:\n",
            "[\n",
            "    \".last_update_check.json\",\n",
            "    \".last_opt_in_prompt.yaml\",\n",
            "    \"gce\",\n",
            "    \"logs\",\n",
            "    \".last_survey_prompt.yaml\",\n",
            "    \"active_config\",\n",
            "    \"config_sentinel\",\n",
            "    \"configurations\",\n",
            "    \".metricsUUID\"\n",
            "]\n",
            "Contents of sample_data:\n",
            "[\n",
            "    \"README.md\",\n",
            "    \"anscombe.json\",\n",
            "    \"california_housing_train.csv\",\n",
            "    \"california_housing_test.csv\",\n",
            "    \"mnist_train_small.csv\",\n",
            "    \"mnist_test.csv\"\n",
            "]\n"
          ],
          "name": "stdout"
        }
      ]
    },
    {
      "cell_type": "markdown",
      "metadata": {
        "id": "2dmfRvnh9RyB",
        "colab_type": "text"
      },
      "source": [
        "### Walking around\n",
        "The function `walk()` traverses a directory recursively and for each subdirectory generates a 3-tuple containing the directory path, a list of any immediate sub-directories of that path, and a list of the names of any files in that directory.  You have to supply a starting directory as a parameter.\n",
        "\n",
        "Your output data should look something like this:\n",
        ">```console\n",
        "Contents of Directory .:\n",
        "[\n",
        "    \".config\",\n",
        "    \"sample_data\"\n",
        "]\n",
        "Contents of Directory ./.config:\n",
        "[\n",
        "    \"logs\",\n",
        "    \"configurations\",\n",
        "    \".last_update_check.json\",\n",
        "    \".last_opt_in_prompt.yaml\",\n",
        "    \"gce\",\n",
        "    \".last_survey_prompt.yaml\",\n",
        "    \"active_config\",\n",
        "...\n",
        "(and perhaps more)\n",
        "...\n",
        "```  \n",
        "\n"
      ]
    },
    {
      "cell_type": "code",
      "metadata": {
        "id": "8RwvG78sipwS",
        "colab_type": "code",
        "colab": {
          "base_uri": "https://localhost:8080/",
          "height": 760
        },
        "outputId": "290d6802-7812-4fc3-e399-fff0496e7c24"
      },
      "source": [
        "# Traverse (iterate over) the entire current directory,\n",
        "# print everything found\n",
        "for dir_name, sub_dirs, files in os.walk('.'):  # Note the 3-tuple unpacking\n",
        "    # Mix the directory contents together\n",
        "    contents = sub_dirs + files\n",
        "    print_data(f\"Contents of Directory {dir_name}:\", contents)"
      ],
      "execution_count": 51,
      "outputs": [
        {
          "output_type": "stream",
          "text": [
            "Contents of Directory .:\n",
            "[\n",
            "    \".config\",\n",
            "    \"sample_data\"\n",
            "]\n",
            "Contents of Directory ./.config:\n",
            "[\n",
            "    \"logs\",\n",
            "    \"configurations\",\n",
            "    \".last_update_check.json\",\n",
            "    \".last_opt_in_prompt.yaml\",\n",
            "    \"gce\",\n",
            "    \".last_survey_prompt.yaml\",\n",
            "    \"active_config\",\n",
            "    \"config_sentinel\",\n",
            "    \".metricsUUID\"\n",
            "]\n",
            "Contents of Directory ./.config/logs:\n",
            "[\n",
            "    \"2020.05.13\"\n",
            "]\n",
            "Contents of Directory ./.config/logs/2020.05.13:\n",
            "[\n",
            "    \"16.29.24.028929.log\",\n",
            "    \"16.29.09.991403.log\",\n",
            "    \"16.28.53.120787.log\",\n",
            "    \"16.29.23.578572.log\",\n",
            "    \"16.28.34.606443.log\",\n",
            "    \"16.29.05.704397.log\"\n",
            "]\n",
            "Contents of Directory ./.config/configurations:\n",
            "[\n",
            "    \"config_default\"\n",
            "]\n",
            "Contents of Directory ./sample_data:\n",
            "[\n",
            "    \"README.md\",\n",
            "    \"anscombe.json\",\n",
            "    \"california_housing_train.csv\",\n",
            "    \"california_housing_test.csv\",\n",
            "    \"mnist_train_small.csv\",\n",
            "    \"mnist_test.csv\"\n",
            "]\n"
          ],
          "name": "stdout"
        }
      ]
    },
    {
      "cell_type": "code",
      "metadata": {
        "id": "bxHnSBSNXgpO",
        "colab_type": "code",
        "colab": {
          "base_uri": "https://localhost:8080/",
          "height": 466
        },
        "outputId": "114de87f-636e-4706-f550-afe67da11e85"
      },
      "source": [
        ""
      ],
      "execution_count": 64,
      "outputs": [
        {
          "output_type": "stream",
          "text": [
            ".config\n",
            "[\n",
            "    16877,\n",
            "    5767175,\n",
            "    50,\n",
            "    1,\n",
            "    0,\n",
            "    0,\n",
            "    4096,\n",
            "    1589997194,\n",
            "    1589991241,\n",
            "    1589997188\n",
            "]\n",
            "sample_data\n",
            "[\n",
            "    16877,\n",
            "    5373959,\n",
            "    50,\n",
            "    1,\n",
            "    0,\n",
            "    0,\n",
            "    4096,\n",
            "    1589995619,\n",
            "    1589387374,\n",
            "    1589995619\n",
            "]\n"
          ],
          "name": "stdout"
        }
      ]
    },
    {
      "cell_type": "code",
      "metadata": {
        "id": "c_7L1oVOI97I",
        "colab_type": "code",
        "colab": {}
      },
      "source": [
        "#@title It's hidden {display-mode: \"form\"}\n",
        "\n",
        "# This code will be hidden when"
      ],
      "execution_count": 0,
      "outputs": []
    },
    {
      "cell_type": "markdown",
      "metadata": {
        "id": "8P8rjHY7IRnj",
        "colab_type": "text"
      },
      "source": [
        ""
      ]
    }
  ]
}