{
  "nbformat": 4,
  "nbformat_minor": 0,
  "metadata": {
    "kernelspec": {
      "name": "python3",
      "display_name": "Python 3"
    },
    "colab": {
      "name": "Activity_Function_Practice_2.ipynb",
      "provenance": []
    }
  },
  "cells": [
    {
      "cell_type": "markdown",
      "metadata": {
        "id": "pjTLilNnPCJP",
        "colab_type": "text"
      },
      "source": [
        "<table border=\"0\" align=\"left\" width=\"700\" height=\"144\">\n",
        "<tbody>\n",
        "<tr>\n",
        "<td width=\"120\"><img width=\"100\" src=\"https://static1.squarespace.com/static/5992c2c7a803bb8283297efe/t/59c803110abd04d34ca9a1f0/1530629279239/\" /></td>\n",
        "<td style=\"width: 600px; height: 67px;\">\n",
        "<h1 style=\"text-align: left;\">Function Practice 2</h1>\n",
        "<p><a href=\"https://colab.research.google.com/github/KenzieAcademy/python-notebooks/blob/master/Activity_Function_Practice_2.ipynb\"> <img src=\"https://colab.research.google.com/assets/colab-badge.svg\" alt=\"Open In Colab\" align=\"left\" width=\"188\" height=\"32\" /> </a></p>\n",
        "</td>\n",
        "</tr>\n",
        "</tbody>\n",
        "</table>"
      ]
    },
    {
      "cell_type": "markdown",
      "metadata": {
        "collapsed": true,
        "id": "sw8jAGLFPCJP",
        "colab_type": "text"
      },
      "source": [
        "Let's see if you can solve these word problems by creating functions. The function \"skeleton\" has been set up for you to fill in below each problem description, as well as example outputs of what the function should return given certain inputs. Best of luck, some of these will be challenging! "
      ]
    },
    {
      "cell_type": "markdown",
      "metadata": {
        "id": "LtV4qmYtPCJQ",
        "colab_type": "text"
      },
      "source": [
        "### 1.\n",
        "\n",
        "Create a function that takes in two integers and returns True if their sum is 10, or False if their sum is something else."
      ]
    },
    {
      "cell_type": "code",
      "metadata": {
        "id": "peUv9JFePCJR",
        "colab_type": "code",
        "colab": {}
      },
      "source": [
        "def check_ten(n1, n2):\n",
        "    # Your code here\n",
        "    pass"
      ],
      "execution_count": 0,
      "outputs": []
    },
    {
      "cell_type": "code",
      "metadata": {
        "id": "ELgLpZRGPCJW",
        "colab_type": "code",
        "colab": {}
      },
      "source": [
        "# Test your inputs and outputs\n",
        "print(check_ten(10, 0))  # Expected: True\n",
        "print(check_ten(5, 5))  # Expected: True\n",
        "print(check_ten(2, 7))  # Expected: False"
      ],
      "execution_count": 0,
      "outputs": []
    },
    {
      "cell_type": "markdown",
      "metadata": {
        "id": "frQY6aFoPCJe",
        "colab_type": "text"
      },
      "source": [
        "### 2.\n",
        "Create a function that takes in two integers and returns True if their sum is 10. Otherwise, return the actual sum."
      ]
    },
    {
      "cell_type": "code",
      "metadata": {
        "id": "Qa_oT1ncPCJe",
        "colab_type": "code",
        "colab": {}
      },
      "source": [
        "def check_ten_sum(n1, n2):\n",
        "    # Your code here\n",
        "    pass"
      ],
      "execution_count": 0,
      "outputs": []
    },
    {
      "cell_type": "code",
      "metadata": {
        "id": "W1R_skbAPCJh",
        "colab_type": "code",
        "colab": {}
      },
      "source": [
        "# Test your inputs and outputs\n",
        "print(check_ten_sum(10, 0))  # Expected: True\n",
        "print(check_ten_sum(2, 7))  # Expected: 9"
      ],
      "execution_count": 0,
      "outputs": []
    },
    {
      "cell_type": "markdown",
      "metadata": {
        "id": "2MzL-Dd4PCJo",
        "colab_type": "text"
      },
      "source": [
        "### 3.\n",
        "\n",
        "Create a function that takes in a string and returns the first character of that string in upper case."
      ]
    },
    {
      "cell_type": "code",
      "metadata": {
        "id": "VupT_beGPCJp",
        "colab_type": "code",
        "colab": {}
      },
      "source": [
        "def first_upper(mystring):\n",
        "    # Your code here\n",
        "    pass"
      ],
      "execution_count": 0,
      "outputs": []
    },
    {
      "cell_type": "code",
      "metadata": {
        "id": "2FeXhE8EPCJr",
        "colab_type": "code",
        "colab": {}
      },
      "source": [
        "# Test your inputs and outputs\n",
        "print(first_upper('hello'))  # Expected: 'H'\n",
        "print(first_upper('person of interest'))  # Expected: 'P'"
      ],
      "execution_count": 0,
      "outputs": []
    },
    {
      "cell_type": "markdown",
      "metadata": {
        "id": "PCsKrO6YPCJy",
        "colab_type": "text"
      },
      "source": [
        "### 4.\n",
        "Create a function that takes in a string and returns its last two characters. If there are fewer than two chracters, return the string \"Error\"."
      ]
    },
    {
      "cell_type": "code",
      "metadata": {
        "id": "hHbJydWyPCJy",
        "colab_type": "code",
        "colab": {}
      },
      "source": [
        "def last_two(mystring):\n",
        "    # Your code here\n",
        "    pass"
      ],
      "execution_count": 0,
      "outputs": []
    },
    {
      "cell_type": "code",
      "metadata": {
        "id": "vscHWkGFPCJ4",
        "colab_type": "code",
        "colab": {}
      },
      "source": [
        "# Test your inputs and outputs\n",
        "print(last_two('hello'))  # Expected: 'lo'\n",
        "print(last_two('hi'))  # Expected: 'hi'\n",
        "print(last_two('a'))  # Expected: 'Error'"
      ],
      "execution_count": 0,
      "outputs": []
    },
    {
      "cell_type": "markdown",
      "metadata": {
        "id": "NiaaYThsPCJ_",
        "colab_type": "text"
      },
      "source": [
        "### 5.\n",
        "Given a list of integers, return True if the sequence [1, 2, 3] is somewhere in the list. Hint: Use slicing and a for-loop."
      ]
    },
    {
      "cell_type": "code",
      "metadata": {
        "id": "u9p7FiVlPCJ_",
        "colab_type": "code",
        "colab": {}
      },
      "source": [
        "def seq_check(nums):\n",
        "    # Your code here\n",
        "    return False"
      ],
      "execution_count": 0,
      "outputs": []
    },
    {
      "cell_type": "code",
      "metadata": {
        "id": "6JxVs7FaPCKD",
        "colab_type": "code",
        "colab": {}
      },
      "source": [
        "# Test your inputs and outputs\n",
        "print(seq_check([1, 2, 3]))  # Expected: True\n",
        "print(seq_check([7, 7, 7, 1, 2, 3, 7, 7, 7]))  # Expected: True\n",
        "print(seq_check([3, 2, 1, 3, 2, 1, 1, 1, 2, 2, 3, 3, 3]))  # Expected: False"
      ],
      "execution_count": 0,
      "outputs": []
    },
    {
      "cell_type": "markdown",
      "metadata": {
        "collapsed": true,
        "id": "bN4irGcWPCKJ",
        "colab_type": "text"
      },
      "source": [
        "### 6.\n",
        "Given two strings, create a function that returns the difference in length between them. This difference in length should always be a positive number (or just 0). Hint: Absolute value."
      ]
    },
    {
      "cell_type": "code",
      "metadata": {
        "id": "0wmZyQpYPCKJ",
        "colab_type": "code",
        "colab": {}
      },
      "source": [
        "def compare_len(s1, s2):\n",
        "    # Your code here\n",
        "    pass"
      ],
      "execution_count": 0,
      "outputs": []
    },
    {
      "cell_type": "code",
      "metadata": {
        "id": "UbuL_Zx5PCKO",
        "colab_type": "code",
        "colab": {}
      },
      "source": [
        "# Test your inputs and outputs\n",
        "print(compare_len('aa', 'aa'))  # Expected: 0\n",
        "print(compare_len('a', 'bb'))  # Expected: 1\n",
        "print(compare_len('bb', 'a'))  # Expected: 1"
      ],
      "execution_count": 0,
      "outputs": []
    },
    {
      "cell_type": "markdown",
      "metadata": {
        "id": "dEQne8EpPCKU",
        "colab_type": "text"
      },
      "source": [
        "### 7.\n",
        "Given a list of integers, return the sum of the list's values if its length is an even number. If the length of the list is odd, return the max value in that list."
      ]
    },
    {
      "cell_type": "code",
      "metadata": {
        "id": "WxWuWyE4PCKU",
        "colab_type": "code",
        "colab": {}
      },
      "source": [
        "def sum_or_max(mylist):\n",
        "    # Your code here\n",
        "    pass"
      ],
      "execution_count": 0,
      "outputs": []
    },
    {
      "cell_type": "code",
      "metadata": {
        "id": "_SiSAFVCPCKY",
        "colab_type": "code",
        "colab": {}
      },
      "source": [
        "# Test your inputs and outputs\n",
        "print(sum_or_max([1, 2, 3]))  # Expected: 3\n",
        "print(sum_or_max([0, 1, 2, 3]))  # Expected: 6"
      ],
      "execution_count": 0,
      "outputs": []
    },
    {
      "cell_type": "markdown",
      "metadata": {
        "id": "UFpEbP6ePCKd",
        "colab_type": "text"
      },
      "source": [
        "### 8.\n",
        "Create a function that takes in a string name (e.g. \"James\", \"Cindy\") and replaces all vowels with the letter x. Then, switch the position of the first and last letters. For our purposes, consider these letters as vowels: [a, e, i, o, u]).\n",
        "\n",
        "**This task is challenging, break it down into multiple pieces. **"
      ]
    },
    {
      "cell_type": "code",
      "metadata": {
        "id": "nEKvRHesPCKd",
        "colab_type": "code",
        "colab": {}
      },
      "source": [
        "def replace_and_switch(name):\n",
        "    # Your code here\n",
        "    pass"
      ],
      "execution_count": 0,
      "outputs": []
    },
    {
      "cell_type": "code",
      "metadata": {
        "id": "3QQnkX7dPCKh",
        "colab_type": "code",
        "colab": {}
      },
      "source": [
        "# Test your inputs and outputs\n",
        "print(replace_and_switch('James'))  # Expected: 'sxmxJ'\n",
        "print(replace_and_switch('Cindy'))  # Expected: 'yxndC'\n",
        "print(replace_and_switch(\"Alfred\"))  # Expected: 'dlfrxx'"
      ],
      "execution_count": 0,
      "outputs": []
    },
    {
      "cell_type": "markdown",
      "metadata": {
        "id": "ZuNxRardPCKo",
        "colab_type": "text"
      },
      "source": [
        "## Great Job! \n",
        "Later on you will combine multiple functions to create large working pieces of code that accomplish complex tasks!"
      ]
    }
  ]
}